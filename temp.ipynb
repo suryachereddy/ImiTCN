{
 "cells": [
  {
   "cell_type": "code",
   "execution_count": 9,
   "metadata": {},
   "outputs": [],
   "source": [
    "import numpy as np\n",
    "import torch\n",
    "from regressionmodel import create_model, define_model\n",
    "from util import _resize_frame\n"
   ]
  },
  {
   "cell_type": "code",
   "execution_count": 86,
   "metadata": {},
   "outputs": [],
   "source": [
    "tcndir=\"tcn-epoch-500.pk\"\n",
    "tcn=define_model(True)\n",
    "tcn.load_state_dict(torch.load(tcndir, map_location=lambda storage, loc: storage))\n",
    "tcn=tcn.cuda()\n"
   ]
  },
  {
   "cell_type": "markdown",
   "metadata": {},
   "source": [
    "# Checking cosine similarity between near TCNs and far TCNs"
   ]
  },
  {
   "cell_type": "code",
   "execution_count": 93,
   "metadata": {},
   "outputs": [],
   "source": [
    "image=np.load(\"./Xtrain/video_1.npy\")\n",
    "imagea=torch.from_numpy(_resize_frame(image[0],(299,299))).unsqueeze(0)\n",
    "imagea=imagea.cuda()\n",
    "\n",
    "imagep=torch.from_numpy(_resize_frame(image[10],(299,299))).unsqueeze(0)\n",
    "imagep=imagep.cuda()\n",
    "\n",
    "imagen=torch.from_numpy(_resize_frame(image[110],(299,299))).unsqueeze(0)\n",
    "imagen=imagen.cuda()\n",
    "\n",
    "\n"
   ]
  },
  {
   "cell_type": "code",
   "execution_count": 94,
   "metadata": {},
   "outputs": [
    {
     "name": "stdout",
     "output_type": "stream",
     "text": [
      "Anchor and Positive example sim: tensor([0.9989], device='cuda:0', grad_fn=<DivBackward0>)\n",
      "Anchor and Negative example sim: tensor([0.9256], device='cuda:0', grad_fn=<DivBackward0>)\n"
     ]
    }
   ],
   "source": [
    "#cosine similarity\n",
    "print(f\"Anchor and Positive example sim: {torch.nn.functional.cosine_similarity(tcn(imagea),tcn(imagep))}\")\n",
    "print(f\"Anchor and Negative example sim: {torch.nn.functional.cosine_similarity(tcn(imagea),tcn(imagen))}\")"
   ]
  },
  {
   "cell_type": "code",
   "execution_count": 2,
   "metadata": {},
   "outputs": [],
   "source": [
    "iscude= torch.cuda.is_available()\n",
    "model= create_model(\"tcn-epoch-1075.pk\",iscude)"
   ]
  },
  {
   "cell_type": "code",
   "execution_count": 101,
   "metadata": {},
   "outputs": [],
   "source": [
    "image=np.load(\"./Xtrain/video_0.npy\")\n",
    "image=torch.from_numpy(_resize_frame(image[0],(299,299))).unsqueeze(0)\n",
    "image=image.cuda()"
   ]
  },
  {
   "cell_type": "code",
   "execution_count": null,
   "metadata": {},
   "outputs": [],
   "source": []
  },
  {
   "cell_type": "code",
   "execution_count": 102,
   "metadata": {},
   "outputs": [
    {
     "data": {
      "text/plain": [
       "tensor([[-0.0725,  0.0350,  0.1066, -0.0286, -0.2082, -0.2730, -0.3457]],\n",
       "       device='cuda:0', grad_fn=<AddmmBackward0>)"
      ]
     },
     "execution_count": 102,
     "metadata": {},
     "output_type": "execute_result"
    }
   ],
   "source": [
    "model(image)"
   ]
  },
  {
   "cell_type": "code",
   "execution_count": 95,
   "metadata": {},
   "outputs": [],
   "source": [
    "a=np.load(\"./ytrain/joint_0.npy\")"
   ]
  },
  {
   "cell_type": "code",
   "execution_count": 99,
   "metadata": {},
   "outputs": [
    {
     "data": {
      "text/plain": [
       "array([-0.19992844, -0.02744054,  0.14277887,  0.24244952,  0.05241203,\n",
       "       -0.1336123 , -0.29047054])"
      ]
     },
     "execution_count": 99,
     "metadata": {},
     "output_type": "execute_result"
    }
   ],
   "source": [
    "a[1]"
   ]
  },
  {
   "cell_type": "code",
   "execution_count": null,
   "metadata": {},
   "outputs": [],
   "source": []
  }
 ],
 "metadata": {
  "interpreter": {
   "hash": "6d582ba51f319b395221d0b306bd02823c36c8ee33e0020eb37f97eaad15da76"
  },
  "kernelspec": {
   "display_name": "Python 3.8.13 ('imitate')",
   "language": "python",
   "name": "python3"
  },
  "language_info": {
   "codemirror_mode": {
    "name": "ipython",
    "version": 3
   },
   "file_extension": ".py",
   "mimetype": "text/x-python",
   "name": "python",
   "nbconvert_exporter": "python",
   "pygments_lexer": "ipython3",
   "version": "3.8.13"
  },
  "orig_nbformat": 4
 },
 "nbformat": 4,
 "nbformat_minor": 2
}
