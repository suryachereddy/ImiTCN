{
 "cells": [
  {
   "cell_type": "code",
   "execution_count": 1,
   "metadata": {},
   "outputs": [
    {
     "name": "stderr",
     "output_type": "stream",
     "text": [
      "C:\\Users\\ravit\\miniconda3\\envs\\imitate\\lib\\site-packages\\tqdm\\auto.py:22: TqdmWarning: IProgress not found. Please update jupyter and ipywidgets. See https://ipywidgets.readthedocs.io/en/stable/user_install.html\n",
      "  from .autonotebook import tqdm as notebook_tqdm\n"
     ]
    }
   ],
   "source": [
    "import numpy as np\n",
    "import torch\n",
    "from regressionmodel import create_model\n",
    "from util import _resize_frame,ls,read_video\n",
    "from tqdm import tqdm"
   ]
  },
  {
   "cell_type": "markdown",
   "metadata": {},
   "source": []
  },
  {
   "cell_type": "code",
   "execution_count": 7,
   "metadata": {},
   "outputs": [],
   "source": [
    "iscuda= False #torch.cuda.is_available()\n",
    "model= create_model(\"tcn-epoch-1075.pk\",iscuda)"
   ]
  },
  {
   "cell_type": "code",
   "execution_count": null,
   "metadata": {},
   "outputs": [],
   "source": []
  },
  {
   "cell_type": "code",
   "execution_count": 8,
   "metadata": {},
   "outputs": [],
   "source": [
    "Xtrain=ls(\"Xtrain\")\n",
    "ytrain=ls(\"ytrain\")\n",
    "Xtest=ls(\"Xtest\")\n",
    "ytest=ls(\"ytest\")"
   ]
  },
  {
   "cell_type": "code",
   "execution_count": 9,
   "metadata": {},
   "outputs": [
    {
     "data": {
      "text/plain": [
       "'video_1.npy'"
      ]
     },
     "execution_count": 9,
     "metadata": {},
     "output_type": "execute_result"
    }
   ],
   "source": [
    "Xtrain[1]"
   ]
  },
  {
   "cell_type": "code",
   "execution_count": 10,
   "metadata": {},
   "outputs": [],
   "source": [
    "Epochs=10"
   ]
  },
  {
   "cell_type": "code",
   "execution_count": 11,
   "metadata": {},
   "outputs": [
    {
     "name": "stderr",
     "output_type": "stream",
     "text": [
      "  1%|▏         | 2/160 [00:12<16:05,  6.11s/it]"
     ]
    },
    {
     "name": "stdout",
     "output_type": "stream",
     "text": [
      "tensor(0.0515, grad_fn=<MseLossBackward0>) None\n",
      "tensor(0.0515, grad_fn=<MseLossBackward0>) None\n",
      "tensor(0.0515, grad_fn=<MseLossBackward0>) None\n",
      "tensor(0.0515, grad_fn=<MseLossBackward0>) None\n",
      "tensor(0.0515, grad_fn=<MseLossBackward0>) None\n",
      "tensor(0.0515, grad_fn=<MseLossBackward0>) None\n",
      "tensor(0.0515, grad_fn=<MseLossBackward0>) None\n",
      "tensor(0.0515, grad_fn=<MseLossBackward0>) None\n",
      "tensor(0.0515, grad_fn=<MseLossBackward0>) None\n",
      "tensor(0.0515, grad_fn=<MseLossBackward0>) None\n",
      "tensor(0.0515, grad_fn=<MseLossBackward0>) None\n",
      "tensor(0.0515, grad_fn=<MseLossBackward0>) None\n",
      "tensor(0.0515, grad_fn=<MseLossBackward0>) None\n",
      "tensor(0.0515, grad_fn=<MseLossBackward0>) None\n",
      "tensor(0.0515, grad_fn=<MseLossBackward0>) None\n",
      "tensor(0.0515, grad_fn=<MseLossBackward0>) None\n",
      "tensor(0.0515, grad_fn=<MseLossBackward0>) None\n",
      "tensor(0.0515, grad_fn=<MseLossBackward0>) None\n",
      "tensor(0.0515, grad_fn=<MseLossBackward0>) None\n",
      "tensor(0.0515, grad_fn=<MseLossBackward0>) None\n",
      "tensor(0.0515, grad_fn=<MseLossBackward0>) None\n",
      "tensor(0.0515, grad_fn=<MseLossBackward0>) None\n",
      "tensor(0.0515, grad_fn=<MseLossBackward0>) None\n",
      "tensor(0.0515, grad_fn=<MseLossBackward0>) None\n",
      "tensor(0.0515, grad_fn=<MseLossBackward0>) None\n",
      "tensor(0.0515, grad_fn=<MseLossBackward0>) None\n",
      "tensor(0.0515, grad_fn=<MseLossBackward0>) None\n",
      "tensor(0.0515, grad_fn=<MseLossBackward0>) None\n",
      "tensor(0.0515, grad_fn=<MseLossBackward0>) None\n",
      "tensor(0.0515, grad_fn=<MseLossBackward0>) None\n",
      "tensor(0.0515, grad_fn=<MseLossBackward0>) None\n",
      "tensor(0.0515, grad_fn=<MseLossBackward0>) None\n",
      "tensor(0.0515, grad_fn=<MseLossBackward0>) None\n",
      "tensor(0.0515, grad_fn=<MseLossBackward0>) None\n",
      "tensor(0.0515, grad_fn=<MseLossBackward0>) None\n",
      "tensor(0.0515, grad_fn=<MseLossBackward0>) None\n",
      "tensor(0.0515, grad_fn=<MseLossBackward0>) None\n",
      "tensor(0.0515, grad_fn=<MseLossBackward0>) None\n",
      "tensor(0.0515, grad_fn=<MseLossBackward0>) None\n",
      "tensor(0.0515, grad_fn=<MseLossBackward0>) None\n",
      "tensor(0.0515, grad_fn=<MseLossBackward0>) None\n",
      "tensor(0.0515, grad_fn=<MseLossBackward0>) None\n",
      "tensor(0.0515, grad_fn=<MseLossBackward0>) None\n",
      "tensor(0.0515, grad_fn=<MseLossBackward0>) None\n",
      "tensor(0.0515, grad_fn=<MseLossBackward0>) None\n",
      "tensor(0.0515, grad_fn=<MseLossBackward0>) None\n",
      "tensor(0.0515, grad_fn=<MseLossBackward0>) None\n",
      "tensor(0.0515, grad_fn=<MseLossBackward0>) None\n",
      "tensor(0.0515, grad_fn=<MseLossBackward0>) None\n",
      "tensor(0.0515, grad_fn=<MseLossBackward0>) None\n",
      "tensor(0.0515, grad_fn=<MseLossBackward0>) None\n",
      "tensor(0.0515, grad_fn=<MseLossBackward0>) None\n",
      "tensor(0.0515, grad_fn=<MseLossBackward0>) None\n",
      "tensor(0.0515, grad_fn=<MseLossBackward0>) None\n",
      "tensor(0.0515, grad_fn=<MseLossBackward0>) None\n",
      "tensor(0.0515, grad_fn=<MseLossBackward0>) None\n",
      "tensor(0.0515, grad_fn=<MseLossBackward0>) None\n",
      "tensor(0.0515, grad_fn=<MseLossBackward0>) None\n",
      "tensor(0.0515, grad_fn=<MseLossBackward0>) None\n",
      "tensor(0.0515, grad_fn=<MseLossBackward0>) None\n",
      "tensor(0.0515, grad_fn=<MseLossBackward0>) None\n",
      "tensor(0.0515, grad_fn=<MseLossBackward0>) None\n",
      "tensor(0.0515, grad_fn=<MseLossBackward0>) None\n",
      "tensor(0.0515, grad_fn=<MseLossBackward0>) None\n",
      "tensor(0.0515, grad_fn=<MseLossBackward0>) None\n",
      "tensor(0.0515, grad_fn=<MseLossBackward0>) None\n",
      "tensor(0.0515, grad_fn=<MseLossBackward0>) None\n",
      "tensor(0.0515, grad_fn=<MseLossBackward0>) None\n",
      "tensor(0.0515, grad_fn=<MseLossBackward0>) None\n",
      "tensor(0.0515, grad_fn=<MseLossBackward0>) None\n",
      "tensor(0.0515, grad_fn=<MseLossBackward0>) None\n",
      "tensor(0.0515, grad_fn=<MseLossBackward0>) None\n",
      "tensor(0.0515, grad_fn=<MseLossBackward0>) None\n",
      "tensor(0.0515, grad_fn=<MseLossBackward0>) None\n",
      "tensor(0.0515, grad_fn=<MseLossBackward0>) None\n",
      "tensor(0.0515, grad_fn=<MseLossBackward0>) None\n",
      "tensor(0.0515, grad_fn=<MseLossBackward0>) None\n",
      "tensor(0.0515, grad_fn=<MseLossBackward0>) None\n",
      "tensor(0.0515, grad_fn=<MseLossBackward0>) None\n",
      "tensor(0.0515, grad_fn=<MseLossBackward0>) None\n",
      "tensor(0.0515, grad_fn=<MseLossBackward0>) None\n",
      "tensor(0.0515, grad_fn=<MseLossBackward0>) None\n",
      "tensor(0.0515, grad_fn=<MseLossBackward0>) None\n",
      "tensor(0.0515, grad_fn=<MseLossBackward0>) None\n",
      "tensor(0.0515, grad_fn=<MseLossBackward0>) None\n",
      "tensor(0.0515, grad_fn=<MseLossBackward0>) None\n",
      "tensor(0.0515, grad_fn=<MseLossBackward0>) None\n",
      "tensor(0.0515, grad_fn=<MseLossBackward0>) None\n",
      "tensor(0.0515, grad_fn=<MseLossBackward0>) None\n"
     ]
    },
    {
     "name": "stderr",
     "output_type": "stream",
     "text": [
      "  2%|▏         | 3/160 [48:20<57:39:40, 1322.17s/it]"
     ]
    },
    {
     "name": "stdout",
     "output_type": "stream",
     "text": [
      "tensor(0.0515, grad_fn=<MseLossBackward0>) None\n",
      "loss at 0 epoch, 2 datas is 0.0005724363029003144\n"
     ]
    },
    {
     "name": "stderr",
     "output_type": "stream",
     "text": [
      "  2%|▎         | 4/160 [48:27<34:47:13, 802.78s/it] "
     ]
    },
    {
     "name": "stdout",
     "output_type": "stream",
     "text": [
      "tensor(0.0471, grad_fn=<MseLossBackward0>) None\n",
      "tensor(0.0471, grad_fn=<MseLossBackward0>) None\n",
      "tensor(0.0471, grad_fn=<MseLossBackward0>) None\n",
      "tensor(0.0471, grad_fn=<MseLossBackward0>) None\n",
      "tensor(0.0471, grad_fn=<MseLossBackward0>) None\n",
      "tensor(0.0471, grad_fn=<MseLossBackward0>) None\n",
      "tensor(0.0471, grad_fn=<MseLossBackward0>) None\n",
      "tensor(0.0471, grad_fn=<MseLossBackward0>) None\n",
      "tensor(0.0471, grad_fn=<MseLossBackward0>) None\n",
      "tensor(0.0471, grad_fn=<MseLossBackward0>) None\n",
      "tensor(0.0471, grad_fn=<MseLossBackward0>) None\n",
      "tensor(0.0471, grad_fn=<MseLossBackward0>) None\n",
      "tensor(0.0471, grad_fn=<MseLossBackward0>) None\n",
      "tensor(0.0471, grad_fn=<MseLossBackward0>) None\n",
      "tensor(0.0471, grad_fn=<MseLossBackward0>) None\n",
      "tensor(0.0471, grad_fn=<MseLossBackward0>) None\n",
      "tensor(0.0471, grad_fn=<MseLossBackward0>) None\n",
      "tensor(0.0471, grad_fn=<MseLossBackward0>) None\n",
      "tensor(0.0471, grad_fn=<MseLossBackward0>) None\n",
      "tensor(0.0471, grad_fn=<MseLossBackward0>) None\n",
      "tensor(0.0471, grad_fn=<MseLossBackward0>) None\n",
      "tensor(0.0471, grad_fn=<MseLossBackward0>) None\n",
      "tensor(0.0471, grad_fn=<MseLossBackward0>) None\n",
      "tensor(0.0471, grad_fn=<MseLossBackward0>) None\n",
      "tensor(0.0471, grad_fn=<MseLossBackward0>) None\n",
      "tensor(0.0471, grad_fn=<MseLossBackward0>) None\n",
      "tensor(0.0471, grad_fn=<MseLossBackward0>) None\n",
      "tensor(0.0471, grad_fn=<MseLossBackward0>) None\n",
      "tensor(0.0471, grad_fn=<MseLossBackward0>) None\n",
      "tensor(0.0471, grad_fn=<MseLossBackward0>) None\n",
      "tensor(0.0471, grad_fn=<MseLossBackward0>) None\n",
      "tensor(0.0471, grad_fn=<MseLossBackward0>) None\n",
      "tensor(0.0471, grad_fn=<MseLossBackward0>) None\n",
      "tensor(0.0471, grad_fn=<MseLossBackward0>) None\n",
      "tensor(0.0471, grad_fn=<MseLossBackward0>) None\n",
      "tensor(0.0471, grad_fn=<MseLossBackward0>) None\n",
      "tensor(0.0471, grad_fn=<MseLossBackward0>) None\n",
      "tensor(0.0471, grad_fn=<MseLossBackward0>) None\n",
      "tensor(0.0471, grad_fn=<MseLossBackward0>) None\n",
      "tensor(0.0471, grad_fn=<MseLossBackward0>) None\n",
      "tensor(0.0471, grad_fn=<MseLossBackward0>) None\n",
      "tensor(0.0471, grad_fn=<MseLossBackward0>) None\n",
      "tensor(0.0471, grad_fn=<MseLossBackward0>) None\n",
      "tensor(0.0471, grad_fn=<MseLossBackward0>) None\n",
      "tensor(0.0471, grad_fn=<MseLossBackward0>) None\n",
      "tensor(0.0471, grad_fn=<MseLossBackward0>) None\n",
      "tensor(0.0471, grad_fn=<MseLossBackward0>) None\n",
      "tensor(0.0471, grad_fn=<MseLossBackward0>) None\n",
      "tensor(0.0471, grad_fn=<MseLossBackward0>) None\n",
      "tensor(0.0471, grad_fn=<MseLossBackward0>) None\n",
      "tensor(0.0471, grad_fn=<MseLossBackward0>) None\n",
      "tensor(0.0471, grad_fn=<MseLossBackward0>) None\n",
      "tensor(0.0471, grad_fn=<MseLossBackward0>) None\n",
      "tensor(0.0471, grad_fn=<MseLossBackward0>) None\n",
      "tensor(0.0471, grad_fn=<MseLossBackward0>) None\n",
      "tensor(0.0471, grad_fn=<MseLossBackward0>) None\n",
      "tensor(0.0471, grad_fn=<MseLossBackward0>) None\n",
      "tensor(0.0471, grad_fn=<MseLossBackward0>) None\n",
      "tensor(0.0471, grad_fn=<MseLossBackward0>) None\n"
     ]
    },
    {
     "name": "stderr",
     "output_type": "stream",
     "text": [
      "  3%|▎         | 5/160 [1:10:09<42:19:06, 982.88s/it]"
     ]
    },
    {
     "name": "stdout",
     "output_type": "stream",
     "text": [
      "tensor(0.0471, grad_fn=<MseLossBackward0>) None\n",
      "loss at 0 epoch, 4 datas is 0.0007843988637129466\n"
     ]
    },
    {
     "name": "stderr",
     "output_type": "stream",
     "text": [
      "  4%|▍         | 6/160 [1:10:15<27:50:29, 650.84s/it]"
     ]
    },
    {
     "name": "stdout",
     "output_type": "stream",
     "text": [
      "tensor(0.0499, grad_fn=<MseLossBackward0>) None\n",
      "tensor(0.0499, grad_fn=<MseLossBackward0>) None\n",
      "tensor(0.0499, grad_fn=<MseLossBackward0>) None\n",
      "tensor(0.0499, grad_fn=<MseLossBackward0>) None\n",
      "tensor(0.0499, grad_fn=<MseLossBackward0>) None\n",
      "tensor(0.0499, grad_fn=<MseLossBackward0>) None\n",
      "tensor(0.0499, grad_fn=<MseLossBackward0>) None\n",
      "tensor(0.0499, grad_fn=<MseLossBackward0>) None\n",
      "tensor(0.0499, grad_fn=<MseLossBackward0>) None\n",
      "tensor(0.0499, grad_fn=<MseLossBackward0>) None\n",
      "tensor(0.0499, grad_fn=<MseLossBackward0>) None\n",
      "tensor(0.0499, grad_fn=<MseLossBackward0>) None\n",
      "tensor(0.0499, grad_fn=<MseLossBackward0>) None\n",
      "tensor(0.0499, grad_fn=<MseLossBackward0>) None\n",
      "tensor(0.0499, grad_fn=<MseLossBackward0>) None\n",
      "tensor(0.0499, grad_fn=<MseLossBackward0>) None\n",
      "tensor(0.0499, grad_fn=<MseLossBackward0>) None\n",
      "tensor(0.0499, grad_fn=<MseLossBackward0>) None\n",
      "tensor(0.0499, grad_fn=<MseLossBackward0>) None\n",
      "tensor(0.0499, grad_fn=<MseLossBackward0>) None\n",
      "tensor(0.0499, grad_fn=<MseLossBackward0>) None\n",
      "tensor(0.0499, grad_fn=<MseLossBackward0>) None\n",
      "tensor(0.0499, grad_fn=<MseLossBackward0>) None\n",
      "tensor(0.0499, grad_fn=<MseLossBackward0>) None\n",
      "tensor(0.0499, grad_fn=<MseLossBackward0>) None\n",
      "tensor(0.0499, grad_fn=<MseLossBackward0>) None\n",
      "tensor(0.0499, grad_fn=<MseLossBackward0>) None\n",
      "tensor(0.0499, grad_fn=<MseLossBackward0>) None\n",
      "tensor(0.0499, grad_fn=<MseLossBackward0>) None\n",
      "tensor(0.0499, grad_fn=<MseLossBackward0>) None\n",
      "tensor(0.0499, grad_fn=<MseLossBackward0>) None\n",
      "tensor(0.0499, grad_fn=<MseLossBackward0>) None\n",
      "tensor(0.0499, grad_fn=<MseLossBackward0>) None\n",
      "tensor(0.0499, grad_fn=<MseLossBackward0>) None\n",
      "tensor(0.0499, grad_fn=<MseLossBackward0>) None\n",
      "tensor(0.0499, grad_fn=<MseLossBackward0>) None\n",
      "tensor(0.0499, grad_fn=<MseLossBackward0>) None\n",
      "tensor(0.0499, grad_fn=<MseLossBackward0>) None\n",
      "tensor(0.0499, grad_fn=<MseLossBackward0>) None\n",
      "tensor(0.0499, grad_fn=<MseLossBackward0>) None\n",
      "tensor(0.0499, grad_fn=<MseLossBackward0>) None\n",
      "tensor(0.0499, grad_fn=<MseLossBackward0>) None\n",
      "tensor(0.0499, grad_fn=<MseLossBackward0>) None\n",
      "tensor(0.0499, grad_fn=<MseLossBackward0>) None\n",
      "tensor(0.0499, grad_fn=<MseLossBackward0>) None\n",
      "tensor(0.0499, grad_fn=<MseLossBackward0>) None\n",
      "tensor(0.0499, grad_fn=<MseLossBackward0>) None\n",
      "tensor(0.0499, grad_fn=<MseLossBackward0>) None\n",
      "tensor(0.0499, grad_fn=<MseLossBackward0>) None\n",
      "tensor(0.0499, grad_fn=<MseLossBackward0>) None\n",
      "tensor(0.0499, grad_fn=<MseLossBackward0>) None\n",
      "tensor(0.0499, grad_fn=<MseLossBackward0>) None\n",
      "tensor(0.0499, grad_fn=<MseLossBackward0>) None\n",
      "tensor(0.0499, grad_fn=<MseLossBackward0>) None\n",
      "tensor(0.0499, grad_fn=<MseLossBackward0>) None\n",
      "tensor(0.0499, grad_fn=<MseLossBackward0>) None\n",
      "tensor(0.0499, grad_fn=<MseLossBackward0>) None\n",
      "tensor(0.0499, grad_fn=<MseLossBackward0>) None\n",
      "tensor(0.0499, grad_fn=<MseLossBackward0>) None\n"
     ]
    },
    {
     "name": "stderr",
     "output_type": "stream",
     "text": [
      "  4%|▍         | 7/160 [1:31:52<36:37:55, 861.93s/it]"
     ]
    },
    {
     "name": "stdout",
     "output_type": "stream",
     "text": [
      "tensor(0.0499, grad_fn=<MseLossBackward0>) None\n",
      "loss at 0 epoch, 6 datas is 0.0008314422021309535\n"
     ]
    },
    {
     "name": "stderr",
     "output_type": "stream",
     "text": [
      "  5%|▌         | 8/160 [1:31:58<24:53:26, 589.52s/it]"
     ]
    },
    {
     "name": "stdout",
     "output_type": "stream",
     "text": [
      "tensor(0.0511, grad_fn=<MseLossBackward0>) None\n",
      "tensor(0.0511, grad_fn=<MseLossBackward0>) None\n",
      "tensor(0.0511, grad_fn=<MseLossBackward0>) None\n",
      "tensor(0.0511, grad_fn=<MseLossBackward0>) None\n",
      "tensor(0.0511, grad_fn=<MseLossBackward0>) None\n",
      "tensor(0.0511, grad_fn=<MseLossBackward0>) None\n",
      "tensor(0.0511, grad_fn=<MseLossBackward0>) None\n",
      "tensor(0.0511, grad_fn=<MseLossBackward0>) None\n",
      "tensor(0.0511, grad_fn=<MseLossBackward0>) None\n",
      "tensor(0.0511, grad_fn=<MseLossBackward0>) None\n",
      "tensor(0.0511, grad_fn=<MseLossBackward0>) None\n",
      "tensor(0.0511, grad_fn=<MseLossBackward0>) None\n",
      "tensor(0.0511, grad_fn=<MseLossBackward0>) None\n",
      "tensor(0.0511, grad_fn=<MseLossBackward0>) None\n",
      "tensor(0.0511, grad_fn=<MseLossBackward0>) None\n",
      "tensor(0.0511, grad_fn=<MseLossBackward0>) None\n",
      "tensor(0.0511, grad_fn=<MseLossBackward0>) None\n",
      "tensor(0.0511, grad_fn=<MseLossBackward0>) None\n",
      "tensor(0.0511, grad_fn=<MseLossBackward0>) None\n",
      "tensor(0.0511, grad_fn=<MseLossBackward0>) None\n",
      "tensor(0.0511, grad_fn=<MseLossBackward0>) None\n",
      "tensor(0.0511, grad_fn=<MseLossBackward0>) None\n",
      "tensor(0.0511, grad_fn=<MseLossBackward0>) None\n",
      "tensor(0.0511, grad_fn=<MseLossBackward0>) None\n",
      "tensor(0.0511, grad_fn=<MseLossBackward0>) None\n",
      "tensor(0.0511, grad_fn=<MseLossBackward0>) None\n",
      "tensor(0.0511, grad_fn=<MseLossBackward0>) None\n",
      "tensor(0.0511, grad_fn=<MseLossBackward0>) None\n",
      "tensor(0.0511, grad_fn=<MseLossBackward0>) None\n",
      "tensor(0.0511, grad_fn=<MseLossBackward0>) None\n",
      "tensor(0.0511, grad_fn=<MseLossBackward0>) None\n",
      "tensor(0.0511, grad_fn=<MseLossBackward0>) None\n",
      "tensor(0.0511, grad_fn=<MseLossBackward0>) None\n",
      "tensor(0.0511, grad_fn=<MseLossBackward0>) None\n",
      "tensor(0.0511, grad_fn=<MseLossBackward0>) None\n",
      "tensor(0.0511, grad_fn=<MseLossBackward0>) None\n",
      "tensor(0.0511, grad_fn=<MseLossBackward0>) None\n",
      "tensor(0.0511, grad_fn=<MseLossBackward0>) None\n",
      "tensor(0.0511, grad_fn=<MseLossBackward0>) None\n",
      "tensor(0.0511, grad_fn=<MseLossBackward0>) None\n",
      "tensor(0.0511, grad_fn=<MseLossBackward0>) None\n",
      "tensor(0.0511, grad_fn=<MseLossBackward0>) None\n",
      "tensor(0.0511, grad_fn=<MseLossBackward0>) None\n",
      "tensor(0.0511, grad_fn=<MseLossBackward0>) None\n",
      "tensor(0.0511, grad_fn=<MseLossBackward0>) None\n",
      "tensor(0.0511, grad_fn=<MseLossBackward0>) None\n",
      "tensor(0.0511, grad_fn=<MseLossBackward0>) None\n",
      "tensor(0.0511, grad_fn=<MseLossBackward0>) None\n",
      "tensor(0.0511, grad_fn=<MseLossBackward0>) None\n",
      "tensor(0.0511, grad_fn=<MseLossBackward0>) None\n",
      "tensor(0.0511, grad_fn=<MseLossBackward0>) None\n",
      "tensor(0.0511, grad_fn=<MseLossBackward0>) None\n",
      "tensor(0.0511, grad_fn=<MseLossBackward0>) None\n",
      "tensor(0.0511, grad_fn=<MseLossBackward0>) None\n",
      "tensor(0.0511, grad_fn=<MseLossBackward0>) None\n",
      "tensor(0.0511, grad_fn=<MseLossBackward0>) None\n",
      "tensor(0.0511, grad_fn=<MseLossBackward0>) None\n",
      "tensor(0.0511, grad_fn=<MseLossBackward0>) None\n",
      "tensor(0.0511, grad_fn=<MseLossBackward0>) None\n"
     ]
    },
    {
     "name": "stderr",
     "output_type": "stream",
     "text": [
      "  6%|▌         | 9/160 [1:53:38<34:02:23, 811.55s/it]"
     ]
    },
    {
     "name": "stdout",
     "output_type": "stream",
     "text": [
      "tensor(0.0511, grad_fn=<MseLossBackward0>) None\n",
      "loss at 0 epoch, 8 datas is 0.0008514774963259697\n"
     ]
    },
    {
     "name": "stderr",
     "output_type": "stream",
     "text": [
      "  6%|▋         | 10/160 [1:53:44<23:27:15, 562.90s/it]"
     ]
    },
    {
     "name": "stdout",
     "output_type": "stream",
     "text": [
      "tensor(0.0527, grad_fn=<MseLossBackward0>) None\n",
      "tensor(0.0527, grad_fn=<MseLossBackward0>) None\n",
      "tensor(0.0527, grad_fn=<MseLossBackward0>) None\n",
      "tensor(0.0527, grad_fn=<MseLossBackward0>) None\n",
      "tensor(0.0527, grad_fn=<MseLossBackward0>) None\n",
      "tensor(0.0527, grad_fn=<MseLossBackward0>) None\n",
      "tensor(0.0527, grad_fn=<MseLossBackward0>) None\n",
      "tensor(0.0527, grad_fn=<MseLossBackward0>) None\n",
      "tensor(0.0527, grad_fn=<MseLossBackward0>) None\n",
      "tensor(0.0527, grad_fn=<MseLossBackward0>) None\n",
      "tensor(0.0527, grad_fn=<MseLossBackward0>) None\n",
      "tensor(0.0527, grad_fn=<MseLossBackward0>) None\n",
      "tensor(0.0527, grad_fn=<MseLossBackward0>) None\n",
      "tensor(0.0527, grad_fn=<MseLossBackward0>) None\n",
      "tensor(0.0527, grad_fn=<MseLossBackward0>) None\n",
      "tensor(0.0527, grad_fn=<MseLossBackward0>) None\n",
      "tensor(0.0527, grad_fn=<MseLossBackward0>) None\n",
      "tensor(0.0527, grad_fn=<MseLossBackward0>) None\n",
      "tensor(0.0527, grad_fn=<MseLossBackward0>) None\n",
      "tensor(0.0527, grad_fn=<MseLossBackward0>) None\n",
      "tensor(0.0527, grad_fn=<MseLossBackward0>) None\n",
      "tensor(0.0527, grad_fn=<MseLossBackward0>) None\n",
      "tensor(0.0527, grad_fn=<MseLossBackward0>) None\n",
      "tensor(0.0527, grad_fn=<MseLossBackward0>) None\n",
      "tensor(0.0527, grad_fn=<MseLossBackward0>) None\n",
      "tensor(0.0527, grad_fn=<MseLossBackward0>) None\n",
      "tensor(0.0527, grad_fn=<MseLossBackward0>) None\n",
      "tensor(0.0527, grad_fn=<MseLossBackward0>) None\n",
      "tensor(0.0527, grad_fn=<MseLossBackward0>) None\n",
      "tensor(0.0527, grad_fn=<MseLossBackward0>) None\n",
      "tensor(0.0527, grad_fn=<MseLossBackward0>) None\n",
      "tensor(0.0527, grad_fn=<MseLossBackward0>) None\n",
      "tensor(0.0527, grad_fn=<MseLossBackward0>) None\n",
      "tensor(0.0527, grad_fn=<MseLossBackward0>) None\n",
      "tensor(0.0527, grad_fn=<MseLossBackward0>) None\n",
      "tensor(0.0527, grad_fn=<MseLossBackward0>) None\n",
      "tensor(0.0527, grad_fn=<MseLossBackward0>) None\n",
      "tensor(0.0527, grad_fn=<MseLossBackward0>) None\n",
      "tensor(0.0527, grad_fn=<MseLossBackward0>) None\n",
      "tensor(0.0527, grad_fn=<MseLossBackward0>) None\n",
      "tensor(0.0527, grad_fn=<MseLossBackward0>) None\n",
      "tensor(0.0527, grad_fn=<MseLossBackward0>) None\n",
      "tensor(0.0527, grad_fn=<MseLossBackward0>) None\n",
      "tensor(0.0527, grad_fn=<MseLossBackward0>) None\n",
      "tensor(0.0527, grad_fn=<MseLossBackward0>) None\n",
      "tensor(0.0527, grad_fn=<MseLossBackward0>) None\n",
      "tensor(0.0527, grad_fn=<MseLossBackward0>) None\n",
      "tensor(0.0527, grad_fn=<MseLossBackward0>) None\n",
      "tensor(0.0527, grad_fn=<MseLossBackward0>) None\n",
      "tensor(0.0527, grad_fn=<MseLossBackward0>) None\n",
      "tensor(0.0527, grad_fn=<MseLossBackward0>) None\n",
      "tensor(0.0527, grad_fn=<MseLossBackward0>) None\n",
      "tensor(0.0527, grad_fn=<MseLossBackward0>) None\n",
      "tensor(0.0527, grad_fn=<MseLossBackward0>) None\n",
      "tensor(0.0527, grad_fn=<MseLossBackward0>) None\n",
      "tensor(0.0527, grad_fn=<MseLossBackward0>) None\n",
      "tensor(0.0527, grad_fn=<MseLossBackward0>) None\n",
      "tensor(0.0527, grad_fn=<MseLossBackward0>) None\n",
      "tensor(0.0527, grad_fn=<MseLossBackward0>) None\n"
     ]
    },
    {
     "name": "stderr",
     "output_type": "stream",
     "text": [
      "  7%|▋         | 11/160 [2:15:19<32:34:40, 787.12s/it]"
     ]
    },
    {
     "name": "stdout",
     "output_type": "stream",
     "text": [
      "tensor(0.0527, grad_fn=<MseLossBackward0>) None\n",
      "loss at 0 epoch, 10 datas is 0.0008783847093582154\n"
     ]
    },
    {
     "name": "stderr",
     "output_type": "stream",
     "text": [
      "  8%|▊         | 12/160 [2:15:26<22:35:38, 549.59s/it]"
     ]
    },
    {
     "name": "stdout",
     "output_type": "stream",
     "text": [
      "tensor(0.0403, grad_fn=<MseLossBackward0>) None\n",
      "tensor(0.0403, grad_fn=<MseLossBackward0>) None\n",
      "tensor(0.0403, grad_fn=<MseLossBackward0>) None\n",
      "tensor(0.0403, grad_fn=<MseLossBackward0>) None\n",
      "tensor(0.0403, grad_fn=<MseLossBackward0>) None\n",
      "tensor(0.0403, grad_fn=<MseLossBackward0>) None\n",
      "tensor(0.0403, grad_fn=<MseLossBackward0>) None\n",
      "tensor(0.0403, grad_fn=<MseLossBackward0>) None\n",
      "tensor(0.0403, grad_fn=<MseLossBackward0>) None\n",
      "tensor(0.0403, grad_fn=<MseLossBackward0>) None\n",
      "tensor(0.0403, grad_fn=<MseLossBackward0>) None\n",
      "tensor(0.0403, grad_fn=<MseLossBackward0>) None\n",
      "tensor(0.0403, grad_fn=<MseLossBackward0>) None\n",
      "tensor(0.0403, grad_fn=<MseLossBackward0>) None\n",
      "tensor(0.0403, grad_fn=<MseLossBackward0>) None\n",
      "tensor(0.0403, grad_fn=<MseLossBackward0>) None\n",
      "tensor(0.0403, grad_fn=<MseLossBackward0>) None\n",
      "tensor(0.0403, grad_fn=<MseLossBackward0>) None\n",
      "tensor(0.0403, grad_fn=<MseLossBackward0>) None\n",
      "tensor(0.0403, grad_fn=<MseLossBackward0>) None\n",
      "tensor(0.0403, grad_fn=<MseLossBackward0>) None\n",
      "tensor(0.0403, grad_fn=<MseLossBackward0>) None\n",
      "tensor(0.0403, grad_fn=<MseLossBackward0>) None\n",
      "tensor(0.0403, grad_fn=<MseLossBackward0>) None\n",
      "tensor(0.0403, grad_fn=<MseLossBackward0>) None\n",
      "tensor(0.0403, grad_fn=<MseLossBackward0>) None\n",
      "tensor(0.0403, grad_fn=<MseLossBackward0>) None\n",
      "tensor(0.0403, grad_fn=<MseLossBackward0>) None\n",
      "tensor(0.0403, grad_fn=<MseLossBackward0>) None\n",
      "tensor(0.0403, grad_fn=<MseLossBackward0>) None\n",
      "tensor(0.0403, grad_fn=<MseLossBackward0>) None\n",
      "tensor(0.0403, grad_fn=<MseLossBackward0>) None\n",
      "tensor(0.0403, grad_fn=<MseLossBackward0>) None\n",
      "tensor(0.0403, grad_fn=<MseLossBackward0>) None\n",
      "tensor(0.0403, grad_fn=<MseLossBackward0>) None\n",
      "tensor(0.0403, grad_fn=<MseLossBackward0>) None\n",
      "tensor(0.0403, grad_fn=<MseLossBackward0>) None\n",
      "tensor(0.0403, grad_fn=<MseLossBackward0>) None\n",
      "tensor(0.0403, grad_fn=<MseLossBackward0>) None\n",
      "tensor(0.0403, grad_fn=<MseLossBackward0>) None\n",
      "tensor(0.0403, grad_fn=<MseLossBackward0>) None\n",
      "tensor(0.0403, grad_fn=<MseLossBackward0>) None\n",
      "tensor(0.0403, grad_fn=<MseLossBackward0>) None\n",
      "tensor(0.0403, grad_fn=<MseLossBackward0>) None\n",
      "tensor(0.0403, grad_fn=<MseLossBackward0>) None\n",
      "tensor(0.0403, grad_fn=<MseLossBackward0>) None\n",
      "tensor(0.0403, grad_fn=<MseLossBackward0>) None\n",
      "tensor(0.0403, grad_fn=<MseLossBackward0>) None\n",
      "tensor(0.0403, grad_fn=<MseLossBackward0>) None\n",
      "tensor(0.0403, grad_fn=<MseLossBackward0>) None\n",
      "tensor(0.0403, grad_fn=<MseLossBackward0>) None\n",
      "tensor(0.0403, grad_fn=<MseLossBackward0>) None\n",
      "tensor(0.0403, grad_fn=<MseLossBackward0>) None\n",
      "tensor(0.0403, grad_fn=<MseLossBackward0>) None\n",
      "tensor(0.0403, grad_fn=<MseLossBackward0>) None\n",
      "tensor(0.0403, grad_fn=<MseLossBackward0>) None\n",
      "tensor(0.0403, grad_fn=<MseLossBackward0>) None\n",
      "tensor(0.0403, grad_fn=<MseLossBackward0>) None\n",
      "tensor(0.0403, grad_fn=<MseLossBackward0>) None\n"
     ]
    },
    {
     "name": "stderr",
     "output_type": "stream",
     "text": [
      "  8%|▊         | 13/160 [2:37:01<31:40:22, 775.67s/it]"
     ]
    },
    {
     "name": "stdout",
     "output_type": "stream",
     "text": [
      "tensor(0.0403, grad_fn=<MseLossBackward0>) None\n",
      "loss at 0 epoch, 12 datas is 0.0006724984074632326\n"
     ]
    },
    {
     "name": "stderr",
     "output_type": "stream",
     "text": [
      "  9%|▉         | 14/160 [2:37:08<22:02:01, 543.29s/it]"
     ]
    },
    {
     "name": "stdout",
     "output_type": "stream",
     "text": [
      "tensor(0.0593, grad_fn=<MseLossBackward0>) None\n",
      "tensor(0.0593, grad_fn=<MseLossBackward0>) None\n",
      "tensor(0.0593, grad_fn=<MseLossBackward0>) None\n",
      "tensor(0.0593, grad_fn=<MseLossBackward0>) None\n",
      "tensor(0.0593, grad_fn=<MseLossBackward0>) None\n",
      "tensor(0.0593, grad_fn=<MseLossBackward0>) None\n",
      "tensor(0.0593, grad_fn=<MseLossBackward0>) None\n",
      "tensor(0.0593, grad_fn=<MseLossBackward0>) None\n",
      "tensor(0.0593, grad_fn=<MseLossBackward0>) None\n",
      "tensor(0.0593, grad_fn=<MseLossBackward0>) None\n",
      "tensor(0.0593, grad_fn=<MseLossBackward0>) None\n",
      "tensor(0.0593, grad_fn=<MseLossBackward0>) None\n",
      "tensor(0.0593, grad_fn=<MseLossBackward0>) None\n",
      "tensor(0.0593, grad_fn=<MseLossBackward0>) None\n",
      "tensor(0.0593, grad_fn=<MseLossBackward0>) None\n",
      "tensor(0.0593, grad_fn=<MseLossBackward0>) None\n",
      "tensor(0.0593, grad_fn=<MseLossBackward0>) None\n",
      "tensor(0.0593, grad_fn=<MseLossBackward0>) None\n",
      "tensor(0.0593, grad_fn=<MseLossBackward0>) None\n",
      "tensor(0.0593, grad_fn=<MseLossBackward0>) None\n",
      "tensor(0.0593, grad_fn=<MseLossBackward0>) None\n",
      "tensor(0.0593, grad_fn=<MseLossBackward0>) None\n",
      "tensor(0.0593, grad_fn=<MseLossBackward0>) None\n",
      "tensor(0.0593, grad_fn=<MseLossBackward0>) None\n",
      "tensor(0.0593, grad_fn=<MseLossBackward0>) None\n",
      "tensor(0.0593, grad_fn=<MseLossBackward0>) None\n",
      "tensor(0.0593, grad_fn=<MseLossBackward0>) None\n",
      "tensor(0.0593, grad_fn=<MseLossBackward0>) None\n",
      "tensor(0.0593, grad_fn=<MseLossBackward0>) None\n",
      "tensor(0.0593, grad_fn=<MseLossBackward0>) None\n",
      "tensor(0.0593, grad_fn=<MseLossBackward0>) None\n",
      "tensor(0.0593, grad_fn=<MseLossBackward0>) None\n",
      "tensor(0.0593, grad_fn=<MseLossBackward0>) None\n",
      "tensor(0.0593, grad_fn=<MseLossBackward0>) None\n",
      "tensor(0.0593, grad_fn=<MseLossBackward0>) None\n",
      "tensor(0.0593, grad_fn=<MseLossBackward0>) None\n",
      "tensor(0.0593, grad_fn=<MseLossBackward0>) None\n",
      "tensor(0.0593, grad_fn=<MseLossBackward0>) None\n",
      "tensor(0.0593, grad_fn=<MseLossBackward0>) None\n",
      "tensor(0.0593, grad_fn=<MseLossBackward0>) None\n",
      "tensor(0.0593, grad_fn=<MseLossBackward0>) None\n",
      "tensor(0.0593, grad_fn=<MseLossBackward0>) None\n",
      "tensor(0.0593, grad_fn=<MseLossBackward0>) None\n",
      "tensor(0.0593, grad_fn=<MseLossBackward0>) None\n",
      "tensor(0.0593, grad_fn=<MseLossBackward0>) None\n",
      "tensor(0.0593, grad_fn=<MseLossBackward0>) None\n",
      "tensor(0.0593, grad_fn=<MseLossBackward0>) None\n",
      "tensor(0.0593, grad_fn=<MseLossBackward0>) None\n",
      "tensor(0.0593, grad_fn=<MseLossBackward0>) None\n",
      "tensor(0.0593, grad_fn=<MseLossBackward0>) None\n",
      "tensor(0.0593, grad_fn=<MseLossBackward0>) None\n",
      "tensor(0.0593, grad_fn=<MseLossBackward0>) None\n",
      "tensor(0.0593, grad_fn=<MseLossBackward0>) None\n",
      "tensor(0.0593, grad_fn=<MseLossBackward0>) None\n",
      "tensor(0.0593, grad_fn=<MseLossBackward0>) None\n",
      "tensor(0.0593, grad_fn=<MseLossBackward0>) None\n",
      "tensor(0.0593, grad_fn=<MseLossBackward0>) None\n",
      "tensor(0.0593, grad_fn=<MseLossBackward0>) None\n",
      "tensor(0.0593, grad_fn=<MseLossBackward0>) None\n"
     ]
    },
    {
     "name": "stderr",
     "output_type": "stream",
     "text": [
      "  9%|▉         | 15/160 [2:58:46<31:03:01, 770.91s/it]"
     ]
    },
    {
     "name": "stdout",
     "output_type": "stream",
     "text": [
      "tensor(0.0593, grad_fn=<MseLossBackward0>) None\n",
      "loss at 0 epoch, 14 datas is 0.000987722103794416\n"
     ]
    },
    {
     "name": "stderr",
     "output_type": "stream",
     "text": [
      " 10%|█         | 16/160 [2:58:53<21:37:56, 540.81s/it]"
     ]
    },
    {
     "name": "stdout",
     "output_type": "stream",
     "text": [
      "tensor(0.0564, grad_fn=<MseLossBackward0>) None\n",
      "tensor(0.0564, grad_fn=<MseLossBackward0>) None\n",
      "tensor(0.0564, grad_fn=<MseLossBackward0>) None\n",
      "tensor(0.0564, grad_fn=<MseLossBackward0>) None\n",
      "tensor(0.0564, grad_fn=<MseLossBackward0>) None\n",
      "tensor(0.0564, grad_fn=<MseLossBackward0>) None\n",
      "tensor(0.0564, grad_fn=<MseLossBackward0>) None\n",
      "tensor(0.0564, grad_fn=<MseLossBackward0>) None\n",
      "tensor(0.0564, grad_fn=<MseLossBackward0>) None\n",
      "tensor(0.0564, grad_fn=<MseLossBackward0>) None\n",
      "tensor(0.0564, grad_fn=<MseLossBackward0>) None\n",
      "tensor(0.0564, grad_fn=<MseLossBackward0>) None\n",
      "tensor(0.0564, grad_fn=<MseLossBackward0>) None\n",
      "tensor(0.0564, grad_fn=<MseLossBackward0>) None\n",
      "tensor(0.0564, grad_fn=<MseLossBackward0>) None\n",
      "tensor(0.0564, grad_fn=<MseLossBackward0>) None\n",
      "tensor(0.0564, grad_fn=<MseLossBackward0>) None\n",
      "tensor(0.0564, grad_fn=<MseLossBackward0>) None\n",
      "tensor(0.0564, grad_fn=<MseLossBackward0>) None\n",
      "tensor(0.0564, grad_fn=<MseLossBackward0>) None\n",
      "tensor(0.0564, grad_fn=<MseLossBackward0>) None\n",
      "tensor(0.0564, grad_fn=<MseLossBackward0>) None\n",
      "tensor(0.0564, grad_fn=<MseLossBackward0>) None\n",
      "tensor(0.0564, grad_fn=<MseLossBackward0>) None\n",
      "tensor(0.0564, grad_fn=<MseLossBackward0>) None\n",
      "tensor(0.0564, grad_fn=<MseLossBackward0>) None\n",
      "tensor(0.0564, grad_fn=<MseLossBackward0>) None\n",
      "tensor(0.0564, grad_fn=<MseLossBackward0>) None\n",
      "tensor(0.0564, grad_fn=<MseLossBackward0>) None\n",
      "tensor(0.0564, grad_fn=<MseLossBackward0>) None\n",
      "tensor(0.0564, grad_fn=<MseLossBackward0>) None\n",
      "tensor(0.0564, grad_fn=<MseLossBackward0>) None\n",
      "tensor(0.0564, grad_fn=<MseLossBackward0>) None\n",
      "tensor(0.0564, grad_fn=<MseLossBackward0>) None\n",
      "tensor(0.0564, grad_fn=<MseLossBackward0>) None\n",
      "tensor(0.0564, grad_fn=<MseLossBackward0>) None\n",
      "tensor(0.0564, grad_fn=<MseLossBackward0>) None\n",
      "tensor(0.0564, grad_fn=<MseLossBackward0>) None\n",
      "tensor(0.0564, grad_fn=<MseLossBackward0>) None\n",
      "tensor(0.0564, grad_fn=<MseLossBackward0>) None\n",
      "tensor(0.0564, grad_fn=<MseLossBackward0>) None\n",
      "tensor(0.0564, grad_fn=<MseLossBackward0>) None\n",
      "tensor(0.0564, grad_fn=<MseLossBackward0>) None\n",
      "tensor(0.0564, grad_fn=<MseLossBackward0>) None\n",
      "tensor(0.0564, grad_fn=<MseLossBackward0>) None\n",
      "tensor(0.0564, grad_fn=<MseLossBackward0>) None\n",
      "tensor(0.0564, grad_fn=<MseLossBackward0>) None\n",
      "tensor(0.0564, grad_fn=<MseLossBackward0>) None\n",
      "tensor(0.0564, grad_fn=<MseLossBackward0>) None\n",
      "tensor(0.0564, grad_fn=<MseLossBackward0>) None\n",
      "tensor(0.0564, grad_fn=<MseLossBackward0>) None\n",
      "tensor(0.0564, grad_fn=<MseLossBackward0>) None\n",
      "tensor(0.0564, grad_fn=<MseLossBackward0>) None\n",
      "tensor(0.0564, grad_fn=<MseLossBackward0>) None\n",
      "tensor(0.0564, grad_fn=<MseLossBackward0>) None\n",
      "tensor(0.0564, grad_fn=<MseLossBackward0>) None\n",
      "tensor(0.0564, grad_fn=<MseLossBackward0>) None\n",
      "tensor(0.0564, grad_fn=<MseLossBackward0>) None\n",
      "tensor(0.0564, grad_fn=<MseLossBackward0>) None\n"
     ]
    },
    {
     "name": "stderr",
     "output_type": "stream",
     "text": [
      " 11%|█         | 17/160 [3:20:38<30:36:39, 770.63s/it]"
     ]
    },
    {
     "name": "stdout",
     "output_type": "stream",
     "text": [
      "tensor(0.0564, grad_fn=<MseLossBackward0>) None\n",
      "loss at 0 epoch, 16 datas is 0.0009403267254432042\n"
     ]
    },
    {
     "name": "stderr",
     "output_type": "stream",
     "text": [
      " 11%|█▏        | 18/160 [3:20:44<21:20:12, 540.93s/it]"
     ]
    },
    {
     "name": "stdout",
     "output_type": "stream",
     "text": [
      "tensor(0.0547, grad_fn=<MseLossBackward0>) None\n",
      "tensor(0.0547, grad_fn=<MseLossBackward0>) None\n",
      "tensor(0.0547, grad_fn=<MseLossBackward0>) None\n",
      "tensor(0.0547, grad_fn=<MseLossBackward0>) None\n",
      "tensor(0.0547, grad_fn=<MseLossBackward0>) None\n",
      "tensor(0.0547, grad_fn=<MseLossBackward0>) None\n",
      "tensor(0.0547, grad_fn=<MseLossBackward0>) None\n",
      "tensor(0.0547, grad_fn=<MseLossBackward0>) None\n",
      "tensor(0.0547, grad_fn=<MseLossBackward0>) None\n",
      "tensor(0.0547, grad_fn=<MseLossBackward0>) None\n",
      "tensor(0.0547, grad_fn=<MseLossBackward0>) None\n",
      "tensor(0.0547, grad_fn=<MseLossBackward0>) None\n",
      "tensor(0.0547, grad_fn=<MseLossBackward0>) None\n",
      "tensor(0.0547, grad_fn=<MseLossBackward0>) None\n",
      "tensor(0.0547, grad_fn=<MseLossBackward0>) None\n",
      "tensor(0.0547, grad_fn=<MseLossBackward0>) None\n",
      "tensor(0.0547, grad_fn=<MseLossBackward0>) None\n",
      "tensor(0.0547, grad_fn=<MseLossBackward0>) None\n",
      "tensor(0.0547, grad_fn=<MseLossBackward0>) None\n",
      "tensor(0.0547, grad_fn=<MseLossBackward0>) None\n",
      "tensor(0.0547, grad_fn=<MseLossBackward0>) None\n",
      "tensor(0.0547, grad_fn=<MseLossBackward0>) None\n",
      "tensor(0.0547, grad_fn=<MseLossBackward0>) None\n",
      "tensor(0.0547, grad_fn=<MseLossBackward0>) None\n",
      "tensor(0.0547, grad_fn=<MseLossBackward0>) None\n",
      "tensor(0.0547, grad_fn=<MseLossBackward0>) None\n",
      "tensor(0.0547, grad_fn=<MseLossBackward0>) None\n",
      "tensor(0.0547, grad_fn=<MseLossBackward0>) None\n",
      "tensor(0.0547, grad_fn=<MseLossBackward0>) None\n",
      "tensor(0.0547, grad_fn=<MseLossBackward0>) None\n",
      "tensor(0.0547, grad_fn=<MseLossBackward0>) None\n",
      "tensor(0.0547, grad_fn=<MseLossBackward0>) None\n",
      "tensor(0.0547, grad_fn=<MseLossBackward0>) None\n",
      "tensor(0.0547, grad_fn=<MseLossBackward0>) None\n",
      "tensor(0.0547, grad_fn=<MseLossBackward0>) None\n",
      "tensor(0.0547, grad_fn=<MseLossBackward0>) None\n",
      "tensor(0.0547, grad_fn=<MseLossBackward0>) None\n",
      "tensor(0.0547, grad_fn=<MseLossBackward0>) None\n",
      "tensor(0.0547, grad_fn=<MseLossBackward0>) None\n",
      "tensor(0.0547, grad_fn=<MseLossBackward0>) None\n",
      "tensor(0.0547, grad_fn=<MseLossBackward0>) None\n",
      "tensor(0.0547, grad_fn=<MseLossBackward0>) None\n",
      "tensor(0.0547, grad_fn=<MseLossBackward0>) None\n",
      "tensor(0.0547, grad_fn=<MseLossBackward0>) None\n",
      "tensor(0.0547, grad_fn=<MseLossBackward0>) None\n",
      "tensor(0.0547, grad_fn=<MseLossBackward0>) None\n",
      "tensor(0.0547, grad_fn=<MseLossBackward0>) None\n",
      "tensor(0.0547, grad_fn=<MseLossBackward0>) None\n",
      "tensor(0.0547, grad_fn=<MseLossBackward0>) None\n",
      "tensor(0.0547, grad_fn=<MseLossBackward0>) None\n",
      "tensor(0.0547, grad_fn=<MseLossBackward0>) None\n",
      "tensor(0.0547, grad_fn=<MseLossBackward0>) None\n",
      "tensor(0.0547, grad_fn=<MseLossBackward0>) None\n",
      "tensor(0.0547, grad_fn=<MseLossBackward0>) None\n",
      "tensor(0.0547, grad_fn=<MseLossBackward0>) None\n",
      "tensor(0.0547, grad_fn=<MseLossBackward0>) None\n",
      "tensor(0.0547, grad_fn=<MseLossBackward0>) None\n",
      "tensor(0.0547, grad_fn=<MseLossBackward0>) None\n",
      "tensor(0.0547, grad_fn=<MseLossBackward0>) None\n"
     ]
    },
    {
     "name": "stderr",
     "output_type": "stream",
     "text": [
      " 12%|█▏        | 19/160 [3:42:33<30:13:03, 771.51s/it]"
     ]
    },
    {
     "name": "stdout",
     "output_type": "stream",
     "text": [
      "tensor(0.0547, grad_fn=<MseLossBackward0>) None\n",
      "loss at 0 epoch, 18 datas is 0.0009116210043430328\n"
     ]
    },
    {
     "name": "stderr",
     "output_type": "stream",
     "text": [
      " 12%|█▎        | 20/160 [3:42:39<21:04:07, 541.77s/it]"
     ]
    },
    {
     "name": "stdout",
     "output_type": "stream",
     "text": [
      "tensor(0.0522, grad_fn=<MseLossBackward0>) None\n",
      "tensor(0.0522, grad_fn=<MseLossBackward0>) None\n",
      "tensor(0.0522, grad_fn=<MseLossBackward0>) None\n",
      "tensor(0.0522, grad_fn=<MseLossBackward0>) None\n",
      "tensor(0.0522, grad_fn=<MseLossBackward0>) None\n",
      "tensor(0.0522, grad_fn=<MseLossBackward0>) None\n",
      "tensor(0.0522, grad_fn=<MseLossBackward0>) None\n",
      "tensor(0.0522, grad_fn=<MseLossBackward0>) None\n",
      "tensor(0.0522, grad_fn=<MseLossBackward0>) None\n",
      "tensor(0.0522, grad_fn=<MseLossBackward0>) None\n",
      "tensor(0.0522, grad_fn=<MseLossBackward0>) None\n",
      "tensor(0.0522, grad_fn=<MseLossBackward0>) None\n",
      "tensor(0.0522, grad_fn=<MseLossBackward0>) None\n",
      "tensor(0.0522, grad_fn=<MseLossBackward0>) None\n",
      "tensor(0.0522, grad_fn=<MseLossBackward0>) None\n",
      "tensor(0.0522, grad_fn=<MseLossBackward0>) None\n",
      "tensor(0.0522, grad_fn=<MseLossBackward0>) None\n",
      "tensor(0.0522, grad_fn=<MseLossBackward0>) None\n",
      "tensor(0.0522, grad_fn=<MseLossBackward0>) None\n",
      "tensor(0.0522, grad_fn=<MseLossBackward0>) None\n",
      "tensor(0.0522, grad_fn=<MseLossBackward0>) None\n",
      "tensor(0.0522, grad_fn=<MseLossBackward0>) None\n",
      "tensor(0.0522, grad_fn=<MseLossBackward0>) None\n",
      "tensor(0.0522, grad_fn=<MseLossBackward0>) None\n",
      "tensor(0.0522, grad_fn=<MseLossBackward0>) None\n",
      "tensor(0.0522, grad_fn=<MseLossBackward0>) None\n",
      "tensor(0.0522, grad_fn=<MseLossBackward0>) None\n",
      "tensor(0.0522, grad_fn=<MseLossBackward0>) None\n",
      "tensor(0.0522, grad_fn=<MseLossBackward0>) None\n",
      "tensor(0.0522, grad_fn=<MseLossBackward0>) None\n",
      "tensor(0.0522, grad_fn=<MseLossBackward0>) None\n",
      "tensor(0.0522, grad_fn=<MseLossBackward0>) None\n",
      "tensor(0.0522, grad_fn=<MseLossBackward0>) None\n",
      "tensor(0.0522, grad_fn=<MseLossBackward0>) None\n",
      "tensor(0.0522, grad_fn=<MseLossBackward0>) None\n",
      "tensor(0.0522, grad_fn=<MseLossBackward0>) None\n",
      "tensor(0.0522, grad_fn=<MseLossBackward0>) None\n",
      "tensor(0.0522, grad_fn=<MseLossBackward0>) None\n",
      "tensor(0.0522, grad_fn=<MseLossBackward0>) None\n",
      "tensor(0.0522, grad_fn=<MseLossBackward0>) None\n",
      "tensor(0.0522, grad_fn=<MseLossBackward0>) None\n",
      "tensor(0.0522, grad_fn=<MseLossBackward0>) None\n",
      "tensor(0.0522, grad_fn=<MseLossBackward0>) None\n",
      "tensor(0.0522, grad_fn=<MseLossBackward0>) None\n",
      "tensor(0.0522, grad_fn=<MseLossBackward0>) None\n",
      "tensor(0.0522, grad_fn=<MseLossBackward0>) None\n",
      "tensor(0.0522, grad_fn=<MseLossBackward0>) None\n",
      "tensor(0.0522, grad_fn=<MseLossBackward0>) None\n",
      "tensor(0.0522, grad_fn=<MseLossBackward0>) None\n",
      "tensor(0.0522, grad_fn=<MseLossBackward0>) None\n",
      "tensor(0.0522, grad_fn=<MseLossBackward0>) None\n",
      "tensor(0.0522, grad_fn=<MseLossBackward0>) None\n",
      "tensor(0.0522, grad_fn=<MseLossBackward0>) None\n",
      "tensor(0.0522, grad_fn=<MseLossBackward0>) None\n",
      "tensor(0.0522, grad_fn=<MseLossBackward0>) None\n",
      "tensor(0.0522, grad_fn=<MseLossBackward0>) None\n",
      "tensor(0.0522, grad_fn=<MseLossBackward0>) None\n",
      "tensor(0.0522, grad_fn=<MseLossBackward0>) None\n",
      "tensor(0.0522, grad_fn=<MseLossBackward0>) None\n"
     ]
    },
    {
     "name": "stderr",
     "output_type": "stream",
     "text": [
      " 13%|█▎        | 21/160 [4:04:18<29:42:04, 769.24s/it]"
     ]
    },
    {
     "name": "stdout",
     "output_type": "stream",
     "text": [
      "tensor(0.0522, grad_fn=<MseLossBackward0>) None\n",
      "loss at 0 epoch, 20 datas is 0.0008708109458287557\n"
     ]
    },
    {
     "name": "stderr",
     "output_type": "stream",
     "text": [
      " 14%|█▍        | 22/160 [4:04:25<20:42:36, 540.26s/it]"
     ]
    },
    {
     "name": "stdout",
     "output_type": "stream",
     "text": [
      "tensor(0.0527, grad_fn=<MseLossBackward0>) None\n",
      "tensor(0.0527, grad_fn=<MseLossBackward0>) None\n",
      "tensor(0.0527, grad_fn=<MseLossBackward0>) None\n",
      "tensor(0.0527, grad_fn=<MseLossBackward0>) None\n",
      "tensor(0.0527, grad_fn=<MseLossBackward0>) None\n",
      "tensor(0.0527, grad_fn=<MseLossBackward0>) None\n",
      "tensor(0.0527, grad_fn=<MseLossBackward0>) None\n",
      "tensor(0.0527, grad_fn=<MseLossBackward0>) None\n",
      "tensor(0.0527, grad_fn=<MseLossBackward0>) None\n",
      "tensor(0.0527, grad_fn=<MseLossBackward0>) None\n",
      "tensor(0.0527, grad_fn=<MseLossBackward0>) None\n",
      "tensor(0.0527, grad_fn=<MseLossBackward0>) None\n",
      "tensor(0.0527, grad_fn=<MseLossBackward0>) None\n",
      "tensor(0.0527, grad_fn=<MseLossBackward0>) None\n",
      "tensor(0.0527, grad_fn=<MseLossBackward0>) None\n",
      "tensor(0.0527, grad_fn=<MseLossBackward0>) None\n",
      "tensor(0.0527, grad_fn=<MseLossBackward0>) None\n",
      "tensor(0.0527, grad_fn=<MseLossBackward0>) None\n",
      "tensor(0.0527, grad_fn=<MseLossBackward0>) None\n",
      "tensor(0.0527, grad_fn=<MseLossBackward0>) None\n",
      "tensor(0.0527, grad_fn=<MseLossBackward0>) None\n",
      "tensor(0.0527, grad_fn=<MseLossBackward0>) None\n",
      "tensor(0.0527, grad_fn=<MseLossBackward0>) None\n",
      "tensor(0.0527, grad_fn=<MseLossBackward0>) None\n",
      "tensor(0.0527, grad_fn=<MseLossBackward0>) None\n",
      "tensor(0.0527, grad_fn=<MseLossBackward0>) None\n",
      "tensor(0.0527, grad_fn=<MseLossBackward0>) None\n",
      "tensor(0.0527, grad_fn=<MseLossBackward0>) None\n",
      "tensor(0.0527, grad_fn=<MseLossBackward0>) None\n",
      "tensor(0.0527, grad_fn=<MseLossBackward0>) None\n",
      "tensor(0.0527, grad_fn=<MseLossBackward0>) None\n",
      "tensor(0.0527, grad_fn=<MseLossBackward0>) None\n",
      "tensor(0.0527, grad_fn=<MseLossBackward0>) None\n",
      "tensor(0.0527, grad_fn=<MseLossBackward0>) None\n",
      "tensor(0.0527, grad_fn=<MseLossBackward0>) None\n",
      "tensor(0.0527, grad_fn=<MseLossBackward0>) None\n",
      "tensor(0.0527, grad_fn=<MseLossBackward0>) None\n",
      "tensor(0.0527, grad_fn=<MseLossBackward0>) None\n",
      "tensor(0.0527, grad_fn=<MseLossBackward0>) None\n",
      "tensor(0.0527, grad_fn=<MseLossBackward0>) None\n",
      "tensor(0.0527, grad_fn=<MseLossBackward0>) None\n",
      "tensor(0.0527, grad_fn=<MseLossBackward0>) None\n",
      "tensor(0.0527, grad_fn=<MseLossBackward0>) None\n",
      "tensor(0.0527, grad_fn=<MseLossBackward0>) None\n",
      "tensor(0.0527, grad_fn=<MseLossBackward0>) None\n",
      "tensor(0.0527, grad_fn=<MseLossBackward0>) None\n",
      "tensor(0.0527, grad_fn=<MseLossBackward0>) None\n",
      "tensor(0.0527, grad_fn=<MseLossBackward0>) None\n",
      "tensor(0.0527, grad_fn=<MseLossBackward0>) None\n",
      "tensor(0.0527, grad_fn=<MseLossBackward0>) None\n",
      "tensor(0.0527, grad_fn=<MseLossBackward0>) None\n",
      "tensor(0.0527, grad_fn=<MseLossBackward0>) None\n",
      "tensor(0.0527, grad_fn=<MseLossBackward0>) None\n",
      "tensor(0.0527, grad_fn=<MseLossBackward0>) None\n",
      "tensor(0.0527, grad_fn=<MseLossBackward0>) None\n",
      "tensor(0.0527, grad_fn=<MseLossBackward0>) None\n",
      "tensor(0.0527, grad_fn=<MseLossBackward0>) None\n",
      "tensor(0.0527, grad_fn=<MseLossBackward0>) None\n",
      "tensor(0.0527, grad_fn=<MseLossBackward0>) None\n"
     ]
    },
    {
     "name": "stderr",
     "output_type": "stream",
     "text": [
      " 14%|█▍        | 23/160 [4:26:00<29:11:09, 766.93s/it]"
     ]
    },
    {
     "name": "stdout",
     "output_type": "stream",
     "text": [
      "tensor(0.0527, grad_fn=<MseLossBackward0>) None\n",
      "loss at 0 epoch, 22 datas is 0.0008775239810347557\n"
     ]
    },
    {
     "name": "stderr",
     "output_type": "stream",
     "text": [
      " 15%|█▌        | 24/160 [4:26:07<20:21:14, 538.79s/it]"
     ]
    },
    {
     "name": "stdout",
     "output_type": "stream",
     "text": [
      "tensor(0.0471, grad_fn=<MseLossBackward0>) None\n",
      "tensor(0.0471, grad_fn=<MseLossBackward0>) None\n",
      "tensor(0.0471, grad_fn=<MseLossBackward0>) None\n",
      "tensor(0.0471, grad_fn=<MseLossBackward0>) None\n",
      "tensor(0.0471, grad_fn=<MseLossBackward0>) None\n",
      "tensor(0.0471, grad_fn=<MseLossBackward0>) None\n",
      "tensor(0.0471, grad_fn=<MseLossBackward0>) None\n",
      "tensor(0.0471, grad_fn=<MseLossBackward0>) None\n",
      "tensor(0.0471, grad_fn=<MseLossBackward0>) None\n",
      "tensor(0.0471, grad_fn=<MseLossBackward0>) None\n",
      "tensor(0.0471, grad_fn=<MseLossBackward0>) None\n",
      "tensor(0.0471, grad_fn=<MseLossBackward0>) None\n",
      "tensor(0.0471, grad_fn=<MseLossBackward0>) None\n",
      "tensor(0.0471, grad_fn=<MseLossBackward0>) None\n",
      "tensor(0.0471, grad_fn=<MseLossBackward0>) None\n",
      "tensor(0.0471, grad_fn=<MseLossBackward0>) None\n",
      "tensor(0.0471, grad_fn=<MseLossBackward0>) None\n",
      "tensor(0.0471, grad_fn=<MseLossBackward0>) None\n",
      "tensor(0.0471, grad_fn=<MseLossBackward0>) None\n",
      "tensor(0.0471, grad_fn=<MseLossBackward0>) None\n",
      "tensor(0.0471, grad_fn=<MseLossBackward0>) None\n",
      "tensor(0.0471, grad_fn=<MseLossBackward0>) None\n",
      "tensor(0.0471, grad_fn=<MseLossBackward0>) None\n",
      "tensor(0.0471, grad_fn=<MseLossBackward0>) None\n",
      "tensor(0.0471, grad_fn=<MseLossBackward0>) None\n",
      "tensor(0.0471, grad_fn=<MseLossBackward0>) None\n",
      "tensor(0.0471, grad_fn=<MseLossBackward0>) None\n",
      "tensor(0.0471, grad_fn=<MseLossBackward0>) None\n",
      "tensor(0.0471, grad_fn=<MseLossBackward0>) None\n",
      "tensor(0.0471, grad_fn=<MseLossBackward0>) None\n",
      "tensor(0.0471, grad_fn=<MseLossBackward0>) None\n",
      "tensor(0.0471, grad_fn=<MseLossBackward0>) None\n",
      "tensor(0.0471, grad_fn=<MseLossBackward0>) None\n",
      "tensor(0.0471, grad_fn=<MseLossBackward0>) None\n",
      "tensor(0.0471, grad_fn=<MseLossBackward0>) None\n",
      "tensor(0.0471, grad_fn=<MseLossBackward0>) None\n",
      "tensor(0.0471, grad_fn=<MseLossBackward0>) None\n",
      "tensor(0.0471, grad_fn=<MseLossBackward0>) None\n",
      "tensor(0.0471, grad_fn=<MseLossBackward0>) None\n",
      "tensor(0.0471, grad_fn=<MseLossBackward0>) None\n",
      "tensor(0.0471, grad_fn=<MseLossBackward0>) None\n",
      "tensor(0.0471, grad_fn=<MseLossBackward0>) None\n",
      "tensor(0.0471, grad_fn=<MseLossBackward0>) None\n",
      "tensor(0.0471, grad_fn=<MseLossBackward0>) None\n",
      "tensor(0.0471, grad_fn=<MseLossBackward0>) None\n",
      "tensor(0.0471, grad_fn=<MseLossBackward0>) None\n",
      "tensor(0.0471, grad_fn=<MseLossBackward0>) None\n",
      "tensor(0.0471, grad_fn=<MseLossBackward0>) None\n",
      "tensor(0.0471, grad_fn=<MseLossBackward0>) None\n",
      "tensor(0.0471, grad_fn=<MseLossBackward0>) None\n",
      "tensor(0.0471, grad_fn=<MseLossBackward0>) None\n",
      "tensor(0.0471, grad_fn=<MseLossBackward0>) None\n",
      "tensor(0.0471, grad_fn=<MseLossBackward0>) None\n",
      "tensor(0.0471, grad_fn=<MseLossBackward0>) None\n",
      "tensor(0.0471, grad_fn=<MseLossBackward0>) None\n",
      "tensor(0.0471, grad_fn=<MseLossBackward0>) None\n",
      "tensor(0.0471, grad_fn=<MseLossBackward0>) None\n",
      "tensor(0.0471, grad_fn=<MseLossBackward0>) None\n",
      "tensor(0.0471, grad_fn=<MseLossBackward0>) None\n"
     ]
    },
    {
     "name": "stderr",
     "output_type": "stream",
     "text": [
      " 16%|█▌        | 25/160 [4:47:46<28:45:49, 767.03s/it]"
     ]
    },
    {
     "name": "stdout",
     "output_type": "stream",
     "text": [
      "tensor(0.0471, grad_fn=<MseLossBackward0>) None\n",
      "loss at 0 epoch, 24 datas is 0.0007849813749392828\n"
     ]
    },
    {
     "name": "stderr",
     "output_type": "stream",
     "text": [
      " 16%|█▋        | 26/160 [4:47:53<20:03:17, 538.78s/it]"
     ]
    },
    {
     "name": "stdout",
     "output_type": "stream",
     "text": [
      "tensor(0.0550, grad_fn=<MseLossBackward0>) None\n",
      "tensor(0.0550, grad_fn=<MseLossBackward0>) None\n",
      "tensor(0.0550, grad_fn=<MseLossBackward0>) None\n",
      "tensor(0.0550, grad_fn=<MseLossBackward0>) None\n",
      "tensor(0.0550, grad_fn=<MseLossBackward0>) None\n",
      "tensor(0.0550, grad_fn=<MseLossBackward0>) None\n",
      "tensor(0.0550, grad_fn=<MseLossBackward0>) None\n",
      "tensor(0.0550, grad_fn=<MseLossBackward0>) None\n",
      "tensor(0.0550, grad_fn=<MseLossBackward0>) None\n",
      "tensor(0.0550, grad_fn=<MseLossBackward0>) None\n",
      "tensor(0.0550, grad_fn=<MseLossBackward0>) None\n",
      "tensor(0.0550, grad_fn=<MseLossBackward0>) None\n",
      "tensor(0.0550, grad_fn=<MseLossBackward0>) None\n",
      "tensor(0.0550, grad_fn=<MseLossBackward0>) None\n",
      "tensor(0.0550, grad_fn=<MseLossBackward0>) None\n",
      "tensor(0.0550, grad_fn=<MseLossBackward0>) None\n",
      "tensor(0.0550, grad_fn=<MseLossBackward0>) None\n",
      "tensor(0.0550, grad_fn=<MseLossBackward0>) None\n",
      "tensor(0.0550, grad_fn=<MseLossBackward0>) None\n",
      "tensor(0.0550, grad_fn=<MseLossBackward0>) None\n",
      "tensor(0.0550, grad_fn=<MseLossBackward0>) None\n",
      "tensor(0.0550, grad_fn=<MseLossBackward0>) None\n",
      "tensor(0.0550, grad_fn=<MseLossBackward0>) None\n",
      "tensor(0.0550, grad_fn=<MseLossBackward0>) None\n",
      "tensor(0.0550, grad_fn=<MseLossBackward0>) None\n",
      "tensor(0.0550, grad_fn=<MseLossBackward0>) None\n",
      "tensor(0.0550, grad_fn=<MseLossBackward0>) None\n",
      "tensor(0.0550, grad_fn=<MseLossBackward0>) None\n",
      "tensor(0.0550, grad_fn=<MseLossBackward0>) None\n",
      "tensor(0.0550, grad_fn=<MseLossBackward0>) None\n",
      "tensor(0.0550, grad_fn=<MseLossBackward0>) None\n",
      "tensor(0.0550, grad_fn=<MseLossBackward0>) None\n",
      "tensor(0.0550, grad_fn=<MseLossBackward0>) None\n",
      "tensor(0.0550, grad_fn=<MseLossBackward0>) None\n",
      "tensor(0.0550, grad_fn=<MseLossBackward0>) None\n",
      "tensor(0.0550, grad_fn=<MseLossBackward0>) None\n",
      "tensor(0.0550, grad_fn=<MseLossBackward0>) None\n",
      "tensor(0.0550, grad_fn=<MseLossBackward0>) None\n",
      "tensor(0.0550, grad_fn=<MseLossBackward0>) None\n",
      "tensor(0.0550, grad_fn=<MseLossBackward0>) None\n",
      "tensor(0.0550, grad_fn=<MseLossBackward0>) None\n",
      "tensor(0.0550, grad_fn=<MseLossBackward0>) None\n",
      "tensor(0.0550, grad_fn=<MseLossBackward0>) None\n",
      "tensor(0.0550, grad_fn=<MseLossBackward0>) None\n",
      "tensor(0.0550, grad_fn=<MseLossBackward0>) None\n",
      "tensor(0.0550, grad_fn=<MseLossBackward0>) None\n",
      "tensor(0.0550, grad_fn=<MseLossBackward0>) None\n",
      "tensor(0.0550, grad_fn=<MseLossBackward0>) None\n",
      "tensor(0.0550, grad_fn=<MseLossBackward0>) None\n",
      "tensor(0.0550, grad_fn=<MseLossBackward0>) None\n",
      "tensor(0.0550, grad_fn=<MseLossBackward0>) None\n",
      "tensor(0.0550, grad_fn=<MseLossBackward0>) None\n",
      "tensor(0.0550, grad_fn=<MseLossBackward0>) None\n",
      "tensor(0.0550, grad_fn=<MseLossBackward0>) None\n",
      "tensor(0.0550, grad_fn=<MseLossBackward0>) None\n",
      "tensor(0.0550, grad_fn=<MseLossBackward0>) None\n",
      "tensor(0.0550, grad_fn=<MseLossBackward0>) None\n",
      "tensor(0.0550, grad_fn=<MseLossBackward0>) None\n",
      "tensor(0.0550, grad_fn=<MseLossBackward0>) None\n"
     ]
    },
    {
     "name": "stderr",
     "output_type": "stream",
     "text": [
      " 17%|█▋        | 27/160 [5:09:39<28:24:28, 768.94s/it]"
     ]
    },
    {
     "name": "stdout",
     "output_type": "stream",
     "text": [
      "tensor(0.0550, grad_fn=<MseLossBackward0>) None\n",
      "loss at 0 epoch, 26 datas is 0.0009172625218828519\n"
     ]
    },
    {
     "name": "stderr",
     "output_type": "stream",
     "text": [
      " 18%|█▊        | 28/160 [5:09:45<19:48:14, 540.11s/it]"
     ]
    },
    {
     "name": "stdout",
     "output_type": "stream",
     "text": [
      "tensor(0.0463, grad_fn=<MseLossBackward0>) None\n",
      "tensor(0.0463, grad_fn=<MseLossBackward0>) None\n",
      "tensor(0.0463, grad_fn=<MseLossBackward0>) None\n",
      "tensor(0.0463, grad_fn=<MseLossBackward0>) None\n",
      "tensor(0.0463, grad_fn=<MseLossBackward0>) None\n",
      "tensor(0.0463, grad_fn=<MseLossBackward0>) None\n",
      "tensor(0.0463, grad_fn=<MseLossBackward0>) None\n",
      "tensor(0.0463, grad_fn=<MseLossBackward0>) None\n",
      "tensor(0.0463, grad_fn=<MseLossBackward0>) None\n",
      "tensor(0.0463, grad_fn=<MseLossBackward0>) None\n",
      "tensor(0.0463, grad_fn=<MseLossBackward0>) None\n",
      "tensor(0.0463, grad_fn=<MseLossBackward0>) None\n",
      "tensor(0.0463, grad_fn=<MseLossBackward0>) None\n",
      "tensor(0.0463, grad_fn=<MseLossBackward0>) None\n",
      "tensor(0.0463, grad_fn=<MseLossBackward0>) None\n",
      "tensor(0.0463, grad_fn=<MseLossBackward0>) None\n",
      "tensor(0.0463, grad_fn=<MseLossBackward0>) None\n",
      "tensor(0.0463, grad_fn=<MseLossBackward0>) None\n",
      "tensor(0.0463, grad_fn=<MseLossBackward0>) None\n",
      "tensor(0.0463, grad_fn=<MseLossBackward0>) None\n",
      "tensor(0.0463, grad_fn=<MseLossBackward0>) None\n",
      "tensor(0.0463, grad_fn=<MseLossBackward0>) None\n",
      "tensor(0.0463, grad_fn=<MseLossBackward0>) None\n",
      "tensor(0.0463, grad_fn=<MseLossBackward0>) None\n",
      "tensor(0.0463, grad_fn=<MseLossBackward0>) None\n",
      "tensor(0.0463, grad_fn=<MseLossBackward0>) None\n",
      "tensor(0.0463, grad_fn=<MseLossBackward0>) None\n",
      "tensor(0.0463, grad_fn=<MseLossBackward0>) None\n",
      "tensor(0.0463, grad_fn=<MseLossBackward0>) None\n",
      "tensor(0.0463, grad_fn=<MseLossBackward0>) None\n",
      "tensor(0.0463, grad_fn=<MseLossBackward0>) None\n",
      "tensor(0.0463, grad_fn=<MseLossBackward0>) None\n",
      "tensor(0.0463, grad_fn=<MseLossBackward0>) None\n",
      "tensor(0.0463, grad_fn=<MseLossBackward0>) None\n",
      "tensor(0.0463, grad_fn=<MseLossBackward0>) None\n",
      "tensor(0.0463, grad_fn=<MseLossBackward0>) None\n",
      "tensor(0.0463, grad_fn=<MseLossBackward0>) None\n",
      "tensor(0.0463, grad_fn=<MseLossBackward0>) None\n",
      "tensor(0.0463, grad_fn=<MseLossBackward0>) None\n",
      "tensor(0.0463, grad_fn=<MseLossBackward0>) None\n",
      "tensor(0.0463, grad_fn=<MseLossBackward0>) None\n",
      "tensor(0.0463, grad_fn=<MseLossBackward0>) None\n",
      "tensor(0.0463, grad_fn=<MseLossBackward0>) None\n",
      "tensor(0.0463, grad_fn=<MseLossBackward0>) None\n",
      "tensor(0.0463, grad_fn=<MseLossBackward0>) None\n",
      "tensor(0.0463, grad_fn=<MseLossBackward0>) None\n",
      "tensor(0.0463, grad_fn=<MseLossBackward0>) None\n",
      "tensor(0.0463, grad_fn=<MseLossBackward0>) None\n",
      "tensor(0.0463, grad_fn=<MseLossBackward0>) None\n",
      "tensor(0.0463, grad_fn=<MseLossBackward0>) None\n",
      "tensor(0.0463, grad_fn=<MseLossBackward0>) None\n",
      "tensor(0.0463, grad_fn=<MseLossBackward0>) None\n",
      "tensor(0.0463, grad_fn=<MseLossBackward0>) None\n",
      "tensor(0.0463, grad_fn=<MseLossBackward0>) None\n",
      "tensor(0.0463, grad_fn=<MseLossBackward0>) None\n",
      "tensor(0.0463, grad_fn=<MseLossBackward0>) None\n",
      "tensor(0.0463, grad_fn=<MseLossBackward0>) None\n",
      "tensor(0.0463, grad_fn=<MseLossBackward0>) None\n",
      "tensor(0.0463, grad_fn=<MseLossBackward0>) None\n"
     ]
    },
    {
     "name": "stderr",
     "output_type": "stream",
     "text": [
      " 18%|█▊        | 29/160 [5:31:26<27:58:01, 768.56s/it]"
     ]
    },
    {
     "name": "stdout",
     "output_type": "stream",
     "text": [
      "tensor(0.0463, grad_fn=<MseLossBackward0>) None\n",
      "loss at 0 epoch, 28 datas is 0.0007720181097586949\n"
     ]
    },
    {
     "name": "stderr",
     "output_type": "stream",
     "text": [
      " 19%|█▉        | 30/160 [5:31:33<19:29:49, 539.92s/it]"
     ]
    },
    {
     "name": "stdout",
     "output_type": "stream",
     "text": [
      "tensor(0.0514, grad_fn=<MseLossBackward0>) None\n",
      "tensor(0.0514, grad_fn=<MseLossBackward0>) None\n",
      "tensor(0.0514, grad_fn=<MseLossBackward0>) None\n",
      "tensor(0.0514, grad_fn=<MseLossBackward0>) None\n",
      "tensor(0.0514, grad_fn=<MseLossBackward0>) None\n",
      "tensor(0.0514, grad_fn=<MseLossBackward0>) None\n",
      "tensor(0.0514, grad_fn=<MseLossBackward0>) None\n",
      "tensor(0.0514, grad_fn=<MseLossBackward0>) None\n",
      "tensor(0.0514, grad_fn=<MseLossBackward0>) None\n",
      "tensor(0.0514, grad_fn=<MseLossBackward0>) None\n",
      "tensor(0.0514, grad_fn=<MseLossBackward0>) None\n",
      "tensor(0.0514, grad_fn=<MseLossBackward0>) None\n",
      "tensor(0.0514, grad_fn=<MseLossBackward0>) None\n",
      "tensor(0.0514, grad_fn=<MseLossBackward0>) None\n",
      "tensor(0.0514, grad_fn=<MseLossBackward0>) None\n",
      "tensor(0.0514, grad_fn=<MseLossBackward0>) None\n",
      "tensor(0.0514, grad_fn=<MseLossBackward0>) None\n",
      "tensor(0.0514, grad_fn=<MseLossBackward0>) None\n",
      "tensor(0.0514, grad_fn=<MseLossBackward0>) None\n",
      "tensor(0.0514, grad_fn=<MseLossBackward0>) None\n",
      "tensor(0.0514, grad_fn=<MseLossBackward0>) None\n",
      "tensor(0.0514, grad_fn=<MseLossBackward0>) None\n",
      "tensor(0.0514, grad_fn=<MseLossBackward0>) None\n",
      "tensor(0.0514, grad_fn=<MseLossBackward0>) None\n",
      "tensor(0.0514, grad_fn=<MseLossBackward0>) None\n",
      "tensor(0.0514, grad_fn=<MseLossBackward0>) None\n",
      "tensor(0.0514, grad_fn=<MseLossBackward0>) None\n",
      "tensor(0.0514, grad_fn=<MseLossBackward0>) None\n",
      "tensor(0.0514, grad_fn=<MseLossBackward0>) None\n",
      "tensor(0.0514, grad_fn=<MseLossBackward0>) None\n",
      "tensor(0.0514, grad_fn=<MseLossBackward0>) None\n",
      "tensor(0.0514, grad_fn=<MseLossBackward0>) None\n",
      "tensor(0.0514, grad_fn=<MseLossBackward0>) None\n",
      "tensor(0.0514, grad_fn=<MseLossBackward0>) None\n",
      "tensor(0.0514, grad_fn=<MseLossBackward0>) None\n",
      "tensor(0.0514, grad_fn=<MseLossBackward0>) None\n",
      "tensor(0.0514, grad_fn=<MseLossBackward0>) None\n",
      "tensor(0.0514, grad_fn=<MseLossBackward0>) None\n",
      "tensor(0.0514, grad_fn=<MseLossBackward0>) None\n",
      "tensor(0.0514, grad_fn=<MseLossBackward0>) None\n",
      "tensor(0.0514, grad_fn=<MseLossBackward0>) None\n",
      "tensor(0.0514, grad_fn=<MseLossBackward0>) None\n",
      "tensor(0.0514, grad_fn=<MseLossBackward0>) None\n",
      "tensor(0.0514, grad_fn=<MseLossBackward0>) None\n",
      "tensor(0.0514, grad_fn=<MseLossBackward0>) None\n",
      "tensor(0.0514, grad_fn=<MseLossBackward0>) None\n",
      "tensor(0.0514, grad_fn=<MseLossBackward0>) None\n",
      "tensor(0.0514, grad_fn=<MseLossBackward0>) None\n",
      "tensor(0.0514, grad_fn=<MseLossBackward0>) None\n",
      "tensor(0.0514, grad_fn=<MseLossBackward0>) None\n",
      "tensor(0.0514, grad_fn=<MseLossBackward0>) None\n",
      "tensor(0.0514, grad_fn=<MseLossBackward0>) None\n",
      "tensor(0.0514, grad_fn=<MseLossBackward0>) None\n",
      "tensor(0.0514, grad_fn=<MseLossBackward0>) None\n",
      "tensor(0.0514, grad_fn=<MseLossBackward0>) None\n",
      "tensor(0.0514, grad_fn=<MseLossBackward0>) None\n",
      "tensor(0.0514, grad_fn=<MseLossBackward0>) None\n",
      "tensor(0.0514, grad_fn=<MseLossBackward0>) None\n",
      "tensor(0.0514, grad_fn=<MseLossBackward0>) None\n"
     ]
    },
    {
     "name": "stderr",
     "output_type": "stream",
     "text": [
      " 19%|█▉        | 31/160 [5:53:16<27:33:19, 768.99s/it]"
     ]
    },
    {
     "name": "stdout",
     "output_type": "stream",
     "text": [
      "tensor(0.0514, grad_fn=<MseLossBackward0>) None\n",
      "loss at 0 epoch, 30 datas is 0.000855876753727595\n"
     ]
    },
    {
     "name": "stderr",
     "output_type": "stream",
     "text": [
      " 20%|██        | 32/160 [5:53:23<19:12:19, 540.15s/it]"
     ]
    },
    {
     "name": "stdout",
     "output_type": "stream",
     "text": [
      "tensor(0.0446, grad_fn=<MseLossBackward0>) None\n",
      "tensor(0.0446, grad_fn=<MseLossBackward0>) None\n",
      "tensor(0.0446, grad_fn=<MseLossBackward0>) None\n",
      "tensor(0.0446, grad_fn=<MseLossBackward0>) None\n",
      "tensor(0.0446, grad_fn=<MseLossBackward0>) None\n",
      "tensor(0.0446, grad_fn=<MseLossBackward0>) None\n",
      "tensor(0.0446, grad_fn=<MseLossBackward0>) None\n",
      "tensor(0.0446, grad_fn=<MseLossBackward0>) None\n",
      "tensor(0.0446, grad_fn=<MseLossBackward0>) None\n",
      "tensor(0.0446, grad_fn=<MseLossBackward0>) None\n",
      "tensor(0.0446, grad_fn=<MseLossBackward0>) None\n",
      "tensor(0.0446, grad_fn=<MseLossBackward0>) None\n",
      "tensor(0.0446, grad_fn=<MseLossBackward0>) None\n",
      "tensor(0.0446, grad_fn=<MseLossBackward0>) None\n",
      "tensor(0.0446, grad_fn=<MseLossBackward0>) None\n",
      "tensor(0.0446, grad_fn=<MseLossBackward0>) None\n",
      "tensor(0.0446, grad_fn=<MseLossBackward0>) None\n",
      "tensor(0.0446, grad_fn=<MseLossBackward0>) None\n",
      "tensor(0.0446, grad_fn=<MseLossBackward0>) None\n",
      "tensor(0.0446, grad_fn=<MseLossBackward0>) None\n",
      "tensor(0.0446, grad_fn=<MseLossBackward0>) None\n",
      "tensor(0.0446, grad_fn=<MseLossBackward0>) None\n",
      "tensor(0.0446, grad_fn=<MseLossBackward0>) None\n",
      "tensor(0.0446, grad_fn=<MseLossBackward0>) None\n",
      "tensor(0.0446, grad_fn=<MseLossBackward0>) None\n",
      "tensor(0.0446, grad_fn=<MseLossBackward0>) None\n",
      "tensor(0.0446, grad_fn=<MseLossBackward0>) None\n",
      "tensor(0.0446, grad_fn=<MseLossBackward0>) None\n",
      "tensor(0.0446, grad_fn=<MseLossBackward0>) None\n",
      "tensor(0.0446, grad_fn=<MseLossBackward0>) None\n",
      "tensor(0.0446, grad_fn=<MseLossBackward0>) None\n",
      "tensor(0.0446, grad_fn=<MseLossBackward0>) None\n"
     ]
    },
    {
     "name": "stderr",
     "output_type": "stream",
     "text": [
      " 20%|██        | 32/160 [6:05:14<24:20:58, 684.83s/it]\n"
     ]
    },
    {
     "ename": "KeyboardInterrupt",
     "evalue": "",
     "output_type": "error",
     "traceback": [
      "\u001b[1;31m---------------------------------------------------------------------------\u001b[0m",
      "\u001b[1;31mKeyboardInterrupt\u001b[0m                         Traceback (most recent call last)",
      "\u001b[1;32md:\\onedrive\\projects\\ImiTCN\\trainregression.ipynb Cell 8'\u001b[0m in \u001b[0;36m<cell line: 3>\u001b[1;34m()\u001b[0m\n\u001b[0;32m     <a href='vscode-notebook-cell:/d%3A/onedrive/projects/ImiTCN/trainregression.ipynb#ch0000007?line=20'>21</a>\u001b[0m         data\u001b[39m=\u001b[39mdata\n\u001b[0;32m     <a href='vscode-notebook-cell:/d%3A/onedrive/projects/ImiTCN/trainregression.ipynb#ch0000007?line=21'>22</a>\u001b[0m         data\u001b[39m=\u001b[39mdata\n\u001b[1;32m---> <a href='vscode-notebook-cell:/d%3A/onedrive/projects/ImiTCN/trainregression.ipynb#ch0000007?line=22'>23</a>\u001b[0m y_pred\u001b[39m=\u001b[39mmodel(x)\n\u001b[0;32m     <a href='vscode-notebook-cell:/d%3A/onedrive/projects/ImiTCN/trainregression.ipynb#ch0000007?line=23'>24</a>\u001b[0m loss\u001b[39m=\u001b[39mtorch\u001b[39m.\u001b[39mnn\u001b[39m.\u001b[39mMSELoss()(y_pred,y)\n\u001b[0;32m     <a href='vscode-notebook-cell:/d%3A/onedrive/projects/ImiTCN/trainregression.ipynb#ch0000007?line=24'>25</a>\u001b[0m \u001b[39mprint\u001b[39m(\u001b[39mprint\u001b[39m(loss, end\u001b[39m=\u001b[39m\u001b[39m\"\u001b[39m\u001b[39m \u001b[39m\u001b[39m\"\u001b[39m))\n",
      "File \u001b[1;32m~\\miniconda3\\envs\\imitate\\lib\\site-packages\\torch\\nn\\modules\\module.py:1110\u001b[0m, in \u001b[0;36mModule._call_impl\u001b[1;34m(self, *input, **kwargs)\u001b[0m\n\u001b[0;32m   <a href='file:///c%3A/Users/ravit/miniconda3/envs/imitate/lib/site-packages/torch/nn/modules/module.py?line=1105'>1106</a>\u001b[0m \u001b[39m# If we don't have any hooks, we want to skip the rest of the logic in\u001b[39;00m\n\u001b[0;32m   <a href='file:///c%3A/Users/ravit/miniconda3/envs/imitate/lib/site-packages/torch/nn/modules/module.py?line=1106'>1107</a>\u001b[0m \u001b[39m# this function, and just call forward.\u001b[39;00m\n\u001b[0;32m   <a href='file:///c%3A/Users/ravit/miniconda3/envs/imitate/lib/site-packages/torch/nn/modules/module.py?line=1107'>1108</a>\u001b[0m \u001b[39mif\u001b[39;00m \u001b[39mnot\u001b[39;00m (\u001b[39mself\u001b[39m\u001b[39m.\u001b[39m_backward_hooks \u001b[39mor\u001b[39;00m \u001b[39mself\u001b[39m\u001b[39m.\u001b[39m_forward_hooks \u001b[39mor\u001b[39;00m \u001b[39mself\u001b[39m\u001b[39m.\u001b[39m_forward_pre_hooks \u001b[39mor\u001b[39;00m _global_backward_hooks\n\u001b[0;32m   <a href='file:///c%3A/Users/ravit/miniconda3/envs/imitate/lib/site-packages/torch/nn/modules/module.py?line=1108'>1109</a>\u001b[0m         \u001b[39mor\u001b[39;00m _global_forward_hooks \u001b[39mor\u001b[39;00m _global_forward_pre_hooks):\n\u001b[1;32m-> <a href='file:///c%3A/Users/ravit/miniconda3/envs/imitate/lib/site-packages/torch/nn/modules/module.py?line=1109'>1110</a>\u001b[0m     \u001b[39mreturn\u001b[39;00m forward_call(\u001b[39m*\u001b[39;49m\u001b[39minput\u001b[39;49m, \u001b[39m*\u001b[39;49m\u001b[39m*\u001b[39;49mkwargs)\n\u001b[0;32m   <a href='file:///c%3A/Users/ravit/miniconda3/envs/imitate/lib/site-packages/torch/nn/modules/module.py?line=1110'>1111</a>\u001b[0m \u001b[39m# Do not call functions when jit is used\u001b[39;00m\n\u001b[0;32m   <a href='file:///c%3A/Users/ravit/miniconda3/envs/imitate/lib/site-packages/torch/nn/modules/module.py?line=1111'>1112</a>\u001b[0m full_backward_hooks, non_full_backward_hooks \u001b[39m=\u001b[39m [], []\n",
      "File \u001b[1;32md:\\onedrive\\projects\\ImiTCN\\regressionmodel.py:19\u001b[0m, in \u001b[0;36mNeuralNetwork.forward\u001b[1;34m(self, x)\u001b[0m\n\u001b[0;32m     <a href='file:///d%3A/onedrive/projects/ImiTCN/regressionmodel.py?line=17'>18</a>\u001b[0m \u001b[39mdef\u001b[39;00m \u001b[39mforward\u001b[39m(\u001b[39mself\u001b[39m, x):\n\u001b[1;32m---> <a href='file:///d%3A/onedrive/projects/ImiTCN/regressionmodel.py?line=18'>19</a>\u001b[0m     x \u001b[39m=\u001b[39m \u001b[39mself\u001b[39;49m\u001b[39m.\u001b[39;49mtcn(x)\n\u001b[0;32m     <a href='file:///d%3A/onedrive/projects/ImiTCN/regressionmodel.py?line=19'>20</a>\u001b[0m     logits \u001b[39m=\u001b[39m \u001b[39mself\u001b[39m\u001b[39m.\u001b[39mlinear_relu_stack(x)\n\u001b[0;32m     <a href='file:///d%3A/onedrive/projects/ImiTCN/regressionmodel.py?line=20'>21</a>\u001b[0m     \u001b[39mreturn\u001b[39;00m logits\n",
      "File \u001b[1;32m~\\miniconda3\\envs\\imitate\\lib\\site-packages\\torch\\nn\\modules\\module.py:1110\u001b[0m, in \u001b[0;36mModule._call_impl\u001b[1;34m(self, *input, **kwargs)\u001b[0m\n\u001b[0;32m   <a href='file:///c%3A/Users/ravit/miniconda3/envs/imitate/lib/site-packages/torch/nn/modules/module.py?line=1105'>1106</a>\u001b[0m \u001b[39m# If we don't have any hooks, we want to skip the rest of the logic in\u001b[39;00m\n\u001b[0;32m   <a href='file:///c%3A/Users/ravit/miniconda3/envs/imitate/lib/site-packages/torch/nn/modules/module.py?line=1106'>1107</a>\u001b[0m \u001b[39m# this function, and just call forward.\u001b[39;00m\n\u001b[0;32m   <a href='file:///c%3A/Users/ravit/miniconda3/envs/imitate/lib/site-packages/torch/nn/modules/module.py?line=1107'>1108</a>\u001b[0m \u001b[39mif\u001b[39;00m \u001b[39mnot\u001b[39;00m (\u001b[39mself\u001b[39m\u001b[39m.\u001b[39m_backward_hooks \u001b[39mor\u001b[39;00m \u001b[39mself\u001b[39m\u001b[39m.\u001b[39m_forward_hooks \u001b[39mor\u001b[39;00m \u001b[39mself\u001b[39m\u001b[39m.\u001b[39m_forward_pre_hooks \u001b[39mor\u001b[39;00m _global_backward_hooks\n\u001b[0;32m   <a href='file:///c%3A/Users/ravit/miniconda3/envs/imitate/lib/site-packages/torch/nn/modules/module.py?line=1108'>1109</a>\u001b[0m         \u001b[39mor\u001b[39;00m _global_forward_hooks \u001b[39mor\u001b[39;00m _global_forward_pre_hooks):\n\u001b[1;32m-> <a href='file:///c%3A/Users/ravit/miniconda3/envs/imitate/lib/site-packages/torch/nn/modules/module.py?line=1109'>1110</a>\u001b[0m     \u001b[39mreturn\u001b[39;00m forward_call(\u001b[39m*\u001b[39;49m\u001b[39minput\u001b[39;49m, \u001b[39m*\u001b[39;49m\u001b[39m*\u001b[39;49mkwargs)\n\u001b[0;32m   <a href='file:///c%3A/Users/ravit/miniconda3/envs/imitate/lib/site-packages/torch/nn/modules/module.py?line=1110'>1111</a>\u001b[0m \u001b[39m# Do not call functions when jit is used\u001b[39;00m\n\u001b[0;32m   <a href='file:///c%3A/Users/ravit/miniconda3/envs/imitate/lib/site-packages/torch/nn/modules/module.py?line=1111'>1112</a>\u001b[0m full_backward_hooks, non_full_backward_hooks \u001b[39m=\u001b[39m [], []\n",
      "File \u001b[1;32md:\\onedrive\\projects\\ImiTCN\\tcn.py:114\u001b[0m, in \u001b[0;36mTCNModel.forward\u001b[1;34m(self, x)\u001b[0m\n\u001b[0;32m    <a href='file:///d%3A/onedrive/projects/ImiTCN/tcn.py?line=111'>112</a>\u001b[0m x \u001b[39m=\u001b[39m F\u001b[39m.\u001b[39mmax_pool2d(x, kernel_size\u001b[39m=\u001b[39m\u001b[39m3\u001b[39m, stride\u001b[39m=\u001b[39m\u001b[39m2\u001b[39m)\n\u001b[0;32m    <a href='file:///d%3A/onedrive/projects/ImiTCN/tcn.py?line=112'>113</a>\u001b[0m \u001b[39m# 35 x 35 x 192\u001b[39;00m\n\u001b[1;32m--> <a href='file:///d%3A/onedrive/projects/ImiTCN/tcn.py?line=113'>114</a>\u001b[0m x \u001b[39m=\u001b[39m \u001b[39mself\u001b[39;49m\u001b[39m.\u001b[39;49mMixed_5b(x)\n\u001b[0;32m    <a href='file:///d%3A/onedrive/projects/ImiTCN/tcn.py?line=114'>115</a>\u001b[0m \u001b[39m# 35 x 35 x 256\u001b[39;00m\n\u001b[0;32m    <a href='file:///d%3A/onedrive/projects/ImiTCN/tcn.py?line=115'>116</a>\u001b[0m x \u001b[39m=\u001b[39m \u001b[39mself\u001b[39m\u001b[39m.\u001b[39mMixed_5c(x)\n",
      "File \u001b[1;32m~\\miniconda3\\envs\\imitate\\lib\\site-packages\\torch\\nn\\modules\\module.py:1110\u001b[0m, in \u001b[0;36mModule._call_impl\u001b[1;34m(self, *input, **kwargs)\u001b[0m\n\u001b[0;32m   <a href='file:///c%3A/Users/ravit/miniconda3/envs/imitate/lib/site-packages/torch/nn/modules/module.py?line=1105'>1106</a>\u001b[0m \u001b[39m# If we don't have any hooks, we want to skip the rest of the logic in\u001b[39;00m\n\u001b[0;32m   <a href='file:///c%3A/Users/ravit/miniconda3/envs/imitate/lib/site-packages/torch/nn/modules/module.py?line=1106'>1107</a>\u001b[0m \u001b[39m# this function, and just call forward.\u001b[39;00m\n\u001b[0;32m   <a href='file:///c%3A/Users/ravit/miniconda3/envs/imitate/lib/site-packages/torch/nn/modules/module.py?line=1107'>1108</a>\u001b[0m \u001b[39mif\u001b[39;00m \u001b[39mnot\u001b[39;00m (\u001b[39mself\u001b[39m\u001b[39m.\u001b[39m_backward_hooks \u001b[39mor\u001b[39;00m \u001b[39mself\u001b[39m\u001b[39m.\u001b[39m_forward_hooks \u001b[39mor\u001b[39;00m \u001b[39mself\u001b[39m\u001b[39m.\u001b[39m_forward_pre_hooks \u001b[39mor\u001b[39;00m _global_backward_hooks\n\u001b[0;32m   <a href='file:///c%3A/Users/ravit/miniconda3/envs/imitate/lib/site-packages/torch/nn/modules/module.py?line=1108'>1109</a>\u001b[0m         \u001b[39mor\u001b[39;00m _global_forward_hooks \u001b[39mor\u001b[39;00m _global_forward_pre_hooks):\n\u001b[1;32m-> <a href='file:///c%3A/Users/ravit/miniconda3/envs/imitate/lib/site-packages/torch/nn/modules/module.py?line=1109'>1110</a>\u001b[0m     \u001b[39mreturn\u001b[39;00m forward_call(\u001b[39m*\u001b[39;49m\u001b[39minput\u001b[39;49m, \u001b[39m*\u001b[39;49m\u001b[39m*\u001b[39;49mkwargs)\n\u001b[0;32m   <a href='file:///c%3A/Users/ravit/miniconda3/envs/imitate/lib/site-packages/torch/nn/modules/module.py?line=1110'>1111</a>\u001b[0m \u001b[39m# Do not call functions when jit is used\u001b[39;00m\n\u001b[0;32m   <a href='file:///c%3A/Users/ravit/miniconda3/envs/imitate/lib/site-packages/torch/nn/modules/module.py?line=1111'>1112</a>\u001b[0m full_backward_hooks, non_full_backward_hooks \u001b[39m=\u001b[39m [], []\n",
      "File \u001b[1;32m~\\miniconda3\\envs\\imitate\\lib\\site-packages\\torchvision\\models\\inception.py:211\u001b[0m, in \u001b[0;36mInceptionA.forward\u001b[1;34m(self, x)\u001b[0m\n\u001b[0;32m    <a href='file:///c%3A/Users/ravit/miniconda3/envs/imitate/lib/site-packages/torchvision/models/inception.py?line=209'>210</a>\u001b[0m \u001b[39mdef\u001b[39;00m \u001b[39mforward\u001b[39m(\u001b[39mself\u001b[39m, x: Tensor) \u001b[39m-\u001b[39m\u001b[39m>\u001b[39m Tensor:\n\u001b[1;32m--> <a href='file:///c%3A/Users/ravit/miniconda3/envs/imitate/lib/site-packages/torchvision/models/inception.py?line=210'>211</a>\u001b[0m     outputs \u001b[39m=\u001b[39m \u001b[39mself\u001b[39;49m\u001b[39m.\u001b[39;49m_forward(x)\n\u001b[0;32m    <a href='file:///c%3A/Users/ravit/miniconda3/envs/imitate/lib/site-packages/torchvision/models/inception.py?line=211'>212</a>\u001b[0m     \u001b[39mreturn\u001b[39;00m torch\u001b[39m.\u001b[39mcat(outputs, \u001b[39m1\u001b[39m)\n",
      "File \u001b[1;32m~\\miniconda3\\envs\\imitate\\lib\\site-packages\\torchvision\\models\\inception.py:197\u001b[0m, in \u001b[0;36mInceptionA._forward\u001b[1;34m(self, x)\u001b[0m\n\u001b[0;32m    <a href='file:///c%3A/Users/ravit/miniconda3/envs/imitate/lib/site-packages/torchvision/models/inception.py?line=193'>194</a>\u001b[0m \u001b[39mdef\u001b[39;00m \u001b[39m_forward\u001b[39m(\u001b[39mself\u001b[39m, x: Tensor) \u001b[39m-\u001b[39m\u001b[39m>\u001b[39m List[Tensor]:\n\u001b[0;32m    <a href='file:///c%3A/Users/ravit/miniconda3/envs/imitate/lib/site-packages/torchvision/models/inception.py?line=194'>195</a>\u001b[0m     branch1x1 \u001b[39m=\u001b[39m \u001b[39mself\u001b[39m\u001b[39m.\u001b[39mbranch1x1(x)\n\u001b[1;32m--> <a href='file:///c%3A/Users/ravit/miniconda3/envs/imitate/lib/site-packages/torchvision/models/inception.py?line=196'>197</a>\u001b[0m     branch5x5 \u001b[39m=\u001b[39m \u001b[39mself\u001b[39;49m\u001b[39m.\u001b[39;49mbranch5x5_1(x)\n\u001b[0;32m    <a href='file:///c%3A/Users/ravit/miniconda3/envs/imitate/lib/site-packages/torchvision/models/inception.py?line=197'>198</a>\u001b[0m     branch5x5 \u001b[39m=\u001b[39m \u001b[39mself\u001b[39m\u001b[39m.\u001b[39mbranch5x5_2(branch5x5)\n\u001b[0;32m    <a href='file:///c%3A/Users/ravit/miniconda3/envs/imitate/lib/site-packages/torchvision/models/inception.py?line=199'>200</a>\u001b[0m     branch3x3dbl \u001b[39m=\u001b[39m \u001b[39mself\u001b[39m\u001b[39m.\u001b[39mbranch3x3dbl_1(x)\n",
      "File \u001b[1;32m~\\miniconda3\\envs\\imitate\\lib\\site-packages\\torch\\nn\\modules\\module.py:1110\u001b[0m, in \u001b[0;36mModule._call_impl\u001b[1;34m(self, *input, **kwargs)\u001b[0m\n\u001b[0;32m   <a href='file:///c%3A/Users/ravit/miniconda3/envs/imitate/lib/site-packages/torch/nn/modules/module.py?line=1105'>1106</a>\u001b[0m \u001b[39m# If we don't have any hooks, we want to skip the rest of the logic in\u001b[39;00m\n\u001b[0;32m   <a href='file:///c%3A/Users/ravit/miniconda3/envs/imitate/lib/site-packages/torch/nn/modules/module.py?line=1106'>1107</a>\u001b[0m \u001b[39m# this function, and just call forward.\u001b[39;00m\n\u001b[0;32m   <a href='file:///c%3A/Users/ravit/miniconda3/envs/imitate/lib/site-packages/torch/nn/modules/module.py?line=1107'>1108</a>\u001b[0m \u001b[39mif\u001b[39;00m \u001b[39mnot\u001b[39;00m (\u001b[39mself\u001b[39m\u001b[39m.\u001b[39m_backward_hooks \u001b[39mor\u001b[39;00m \u001b[39mself\u001b[39m\u001b[39m.\u001b[39m_forward_hooks \u001b[39mor\u001b[39;00m \u001b[39mself\u001b[39m\u001b[39m.\u001b[39m_forward_pre_hooks \u001b[39mor\u001b[39;00m _global_backward_hooks\n\u001b[0;32m   <a href='file:///c%3A/Users/ravit/miniconda3/envs/imitate/lib/site-packages/torch/nn/modules/module.py?line=1108'>1109</a>\u001b[0m         \u001b[39mor\u001b[39;00m _global_forward_hooks \u001b[39mor\u001b[39;00m _global_forward_pre_hooks):\n\u001b[1;32m-> <a href='file:///c%3A/Users/ravit/miniconda3/envs/imitate/lib/site-packages/torch/nn/modules/module.py?line=1109'>1110</a>\u001b[0m     \u001b[39mreturn\u001b[39;00m forward_call(\u001b[39m*\u001b[39;49m\u001b[39minput\u001b[39;49m, \u001b[39m*\u001b[39;49m\u001b[39m*\u001b[39;49mkwargs)\n\u001b[0;32m   <a href='file:///c%3A/Users/ravit/miniconda3/envs/imitate/lib/site-packages/torch/nn/modules/module.py?line=1110'>1111</a>\u001b[0m \u001b[39m# Do not call functions when jit is used\u001b[39;00m\n\u001b[0;32m   <a href='file:///c%3A/Users/ravit/miniconda3/envs/imitate/lib/site-packages/torch/nn/modules/module.py?line=1111'>1112</a>\u001b[0m full_backward_hooks, non_full_backward_hooks \u001b[39m=\u001b[39m [], []\n",
      "File \u001b[1;32m~\\miniconda3\\envs\\imitate\\lib\\site-packages\\torchvision\\models\\inception.py:405\u001b[0m, in \u001b[0;36mBasicConv2d.forward\u001b[1;34m(self, x)\u001b[0m\n\u001b[0;32m    <a href='file:///c%3A/Users/ravit/miniconda3/envs/imitate/lib/site-packages/torchvision/models/inception.py?line=403'>404</a>\u001b[0m \u001b[39mdef\u001b[39;00m \u001b[39mforward\u001b[39m(\u001b[39mself\u001b[39m, x: Tensor) \u001b[39m-\u001b[39m\u001b[39m>\u001b[39m Tensor:\n\u001b[1;32m--> <a href='file:///c%3A/Users/ravit/miniconda3/envs/imitate/lib/site-packages/torchvision/models/inception.py?line=404'>405</a>\u001b[0m     x \u001b[39m=\u001b[39m \u001b[39mself\u001b[39;49m\u001b[39m.\u001b[39;49mconv(x)\n\u001b[0;32m    <a href='file:///c%3A/Users/ravit/miniconda3/envs/imitate/lib/site-packages/torchvision/models/inception.py?line=405'>406</a>\u001b[0m     x \u001b[39m=\u001b[39m \u001b[39mself\u001b[39m\u001b[39m.\u001b[39mbn(x)\n\u001b[0;32m    <a href='file:///c%3A/Users/ravit/miniconda3/envs/imitate/lib/site-packages/torchvision/models/inception.py?line=406'>407</a>\u001b[0m     \u001b[39mreturn\u001b[39;00m F\u001b[39m.\u001b[39mrelu(x, inplace\u001b[39m=\u001b[39m\u001b[39mTrue\u001b[39;00m)\n",
      "File \u001b[1;32m~\\miniconda3\\envs\\imitate\\lib\\site-packages\\torch\\nn\\modules\\module.py:1110\u001b[0m, in \u001b[0;36mModule._call_impl\u001b[1;34m(self, *input, **kwargs)\u001b[0m\n\u001b[0;32m   <a href='file:///c%3A/Users/ravit/miniconda3/envs/imitate/lib/site-packages/torch/nn/modules/module.py?line=1105'>1106</a>\u001b[0m \u001b[39m# If we don't have any hooks, we want to skip the rest of the logic in\u001b[39;00m\n\u001b[0;32m   <a href='file:///c%3A/Users/ravit/miniconda3/envs/imitate/lib/site-packages/torch/nn/modules/module.py?line=1106'>1107</a>\u001b[0m \u001b[39m# this function, and just call forward.\u001b[39;00m\n\u001b[0;32m   <a href='file:///c%3A/Users/ravit/miniconda3/envs/imitate/lib/site-packages/torch/nn/modules/module.py?line=1107'>1108</a>\u001b[0m \u001b[39mif\u001b[39;00m \u001b[39mnot\u001b[39;00m (\u001b[39mself\u001b[39m\u001b[39m.\u001b[39m_backward_hooks \u001b[39mor\u001b[39;00m \u001b[39mself\u001b[39m\u001b[39m.\u001b[39m_forward_hooks \u001b[39mor\u001b[39;00m \u001b[39mself\u001b[39m\u001b[39m.\u001b[39m_forward_pre_hooks \u001b[39mor\u001b[39;00m _global_backward_hooks\n\u001b[0;32m   <a href='file:///c%3A/Users/ravit/miniconda3/envs/imitate/lib/site-packages/torch/nn/modules/module.py?line=1108'>1109</a>\u001b[0m         \u001b[39mor\u001b[39;00m _global_forward_hooks \u001b[39mor\u001b[39;00m _global_forward_pre_hooks):\n\u001b[1;32m-> <a href='file:///c%3A/Users/ravit/miniconda3/envs/imitate/lib/site-packages/torch/nn/modules/module.py?line=1109'>1110</a>\u001b[0m     \u001b[39mreturn\u001b[39;00m forward_call(\u001b[39m*\u001b[39;49m\u001b[39minput\u001b[39;49m, \u001b[39m*\u001b[39;49m\u001b[39m*\u001b[39;49mkwargs)\n\u001b[0;32m   <a href='file:///c%3A/Users/ravit/miniconda3/envs/imitate/lib/site-packages/torch/nn/modules/module.py?line=1110'>1111</a>\u001b[0m \u001b[39m# Do not call functions when jit is used\u001b[39;00m\n\u001b[0;32m   <a href='file:///c%3A/Users/ravit/miniconda3/envs/imitate/lib/site-packages/torch/nn/modules/module.py?line=1111'>1112</a>\u001b[0m full_backward_hooks, non_full_backward_hooks \u001b[39m=\u001b[39m [], []\n",
      "File \u001b[1;32m~\\miniconda3\\envs\\imitate\\lib\\site-packages\\torch\\nn\\modules\\conv.py:447\u001b[0m, in \u001b[0;36mConv2d.forward\u001b[1;34m(self, input)\u001b[0m\n\u001b[0;32m    <a href='file:///c%3A/Users/ravit/miniconda3/envs/imitate/lib/site-packages/torch/nn/modules/conv.py?line=445'>446</a>\u001b[0m \u001b[39mdef\u001b[39;00m \u001b[39mforward\u001b[39m(\u001b[39mself\u001b[39m, \u001b[39minput\u001b[39m: Tensor) \u001b[39m-\u001b[39m\u001b[39m>\u001b[39m Tensor:\n\u001b[1;32m--> <a href='file:///c%3A/Users/ravit/miniconda3/envs/imitate/lib/site-packages/torch/nn/modules/conv.py?line=446'>447</a>\u001b[0m     \u001b[39mreturn\u001b[39;00m \u001b[39mself\u001b[39;49m\u001b[39m.\u001b[39;49m_conv_forward(\u001b[39minput\u001b[39;49m, \u001b[39mself\u001b[39;49m\u001b[39m.\u001b[39;49mweight, \u001b[39mself\u001b[39;49m\u001b[39m.\u001b[39;49mbias)\n",
      "File \u001b[1;32m~\\miniconda3\\envs\\imitate\\lib\\site-packages\\torch\\nn\\modules\\conv.py:443\u001b[0m, in \u001b[0;36mConv2d._conv_forward\u001b[1;34m(self, input, weight, bias)\u001b[0m\n\u001b[0;32m    <a href='file:///c%3A/Users/ravit/miniconda3/envs/imitate/lib/site-packages/torch/nn/modules/conv.py?line=438'>439</a>\u001b[0m \u001b[39mif\u001b[39;00m \u001b[39mself\u001b[39m\u001b[39m.\u001b[39mpadding_mode \u001b[39m!=\u001b[39m \u001b[39m'\u001b[39m\u001b[39mzeros\u001b[39m\u001b[39m'\u001b[39m:\n\u001b[0;32m    <a href='file:///c%3A/Users/ravit/miniconda3/envs/imitate/lib/site-packages/torch/nn/modules/conv.py?line=439'>440</a>\u001b[0m     \u001b[39mreturn\u001b[39;00m F\u001b[39m.\u001b[39mconv2d(F\u001b[39m.\u001b[39mpad(\u001b[39minput\u001b[39m, \u001b[39mself\u001b[39m\u001b[39m.\u001b[39m_reversed_padding_repeated_twice, mode\u001b[39m=\u001b[39m\u001b[39mself\u001b[39m\u001b[39m.\u001b[39mpadding_mode),\n\u001b[0;32m    <a href='file:///c%3A/Users/ravit/miniconda3/envs/imitate/lib/site-packages/torch/nn/modules/conv.py?line=440'>441</a>\u001b[0m                     weight, bias, \u001b[39mself\u001b[39m\u001b[39m.\u001b[39mstride,\n\u001b[0;32m    <a href='file:///c%3A/Users/ravit/miniconda3/envs/imitate/lib/site-packages/torch/nn/modules/conv.py?line=441'>442</a>\u001b[0m                     _pair(\u001b[39m0\u001b[39m), \u001b[39mself\u001b[39m\u001b[39m.\u001b[39mdilation, \u001b[39mself\u001b[39m\u001b[39m.\u001b[39mgroups)\n\u001b[1;32m--> <a href='file:///c%3A/Users/ravit/miniconda3/envs/imitate/lib/site-packages/torch/nn/modules/conv.py?line=442'>443</a>\u001b[0m \u001b[39mreturn\u001b[39;00m F\u001b[39m.\u001b[39;49mconv2d(\u001b[39minput\u001b[39;49m, weight, bias, \u001b[39mself\u001b[39;49m\u001b[39m.\u001b[39;49mstride,\n\u001b[0;32m    <a href='file:///c%3A/Users/ravit/miniconda3/envs/imitate/lib/site-packages/torch/nn/modules/conv.py?line=443'>444</a>\u001b[0m                 \u001b[39mself\u001b[39;49m\u001b[39m.\u001b[39;49mpadding, \u001b[39mself\u001b[39;49m\u001b[39m.\u001b[39;49mdilation, \u001b[39mself\u001b[39;49m\u001b[39m.\u001b[39;49mgroups)\n",
      "\u001b[1;31mKeyboardInterrupt\u001b[0m: "
     ]
    }
   ],
   "source": [
    "X=np.empty([0,3,299,299])\n",
    "Y=np.empty([0,7])\n",
    "for i in range(Epochs):\n",
    "    model.train()\n",
    "    for j in tqdm(range(len(Xtrain))):\n",
    "        \n",
    "        x=read_video(f\"Xtrain/{Xtrain[j]}\",(299,299))\n",
    "        y=np.load(f\"ytrain/{ytrain[j]}\")\n",
    "        X=np.concatenate((X,x))\n",
    "\n",
    "        Y=np.concatenate((Y,y))\n",
    "        if j%2==0 and j!=0:\n",
    "            x=torch.from_numpy(X).float()\n",
    "            y=torch.from_numpy(Y).float()\n",
    "            trainloader = torch.utils.data.DataLoader(\n",
    "                [ [x[i], y[i]] for i in range(y.shape[0])], \n",
    "                shuffle=True, batch_size=4)\n",
    "            losses=[]\n",
    "            for batch_idx, (data, target) in enumerate(trainloader):\n",
    "                if iscuda:\n",
    "                        data=data\n",
    "                        data=data\n",
    "                y_pred=model(x)\n",
    "                loss=torch.nn.MSELoss()(y_pred,y)\n",
    "                print(print(loss, end=\" \"))\n",
    "                losses.append(loss.item())\n",
    "                if j%100==0:\n",
    "                    torch.save(model,\"tcn-epoch-\"+str(i)+\"_\"+str(j)+\".pk\")\n",
    "                loss.backward()\n",
    "                model.zero_grad()\n",
    "            X=np.empty([0,3,299,299])\n",
    "            Y=np.empty([0,7])\n",
    "\n",
    "            print(f\"loss at {i} epoch, {j} datas is {np.mean(losses)/len(losses)}\")\n",
    "    model.eval()\n",
    "    y_pred=model(torch.from_numpy(Xtest).float())\n",
    "    loss=torch.nn.MSELoss()(y_pred,torch.from_numpy(ytest).float())\n",
    "    print(\"Epoch:\",i,\"Loss:\",loss.item())\n",
    "    torch.save(model,\"imiTCN-epoch-\"+str(i)+\".pk\")\n",
    "\n"
   ]
  },
  {
   "cell_type": "code",
   "execution_count": null,
   "metadata": {},
   "outputs": [],
   "source": []
  },
  {
   "cell_type": "code",
   "execution_count": 12,
   "metadata": {},
   "outputs": [],
   "source": [
    "torch.save(model,\"imiTCN-epoch-\"+str(i)+\".pk\")"
   ]
  },
  {
   "cell_type": "code",
   "execution_count": null,
   "metadata": {},
   "outputs": [],
   "source": []
  }
 ],
 "metadata": {
  "interpreter": {
   "hash": "6d582ba51f319b395221d0b306bd02823c36c8ee33e0020eb37f97eaad15da76"
  },
  "kernelspec": {
   "display_name": "Python 3.8.13 ('imitate')",
   "language": "python",
   "name": "python3"
  },
  "language_info": {
   "codemirror_mode": {
    "name": "ipython",
    "version": 3
   },
   "file_extension": ".py",
   "mimetype": "text/x-python",
   "name": "python",
   "nbconvert_exporter": "python",
   "pygments_lexer": "ipython3",
   "version": "3.8.13"
  },
  "orig_nbformat": 4
 },
 "nbformat": 4,
 "nbformat_minor": 2
}
